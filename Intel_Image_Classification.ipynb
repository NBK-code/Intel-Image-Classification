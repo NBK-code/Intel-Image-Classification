{
  "nbformat": 4,
  "nbformat_minor": 0,
  "metadata": {
    "colab": {
      "name": "Intel_Image_Classification.ipynb",
      "provenance": [],
      "collapsed_sections": [],
      "machine_shape": "hm",
      "authorship_tag": "ABX9TyOCPbQseLJs7o23l8+fIlSR",
      "include_colab_link": true
    },
    "kernelspec": {
      "name": "python3",
      "display_name": "Python 3"
    },
    "language_info": {
      "name": "python"
    },
    "accelerator": "GPU"
  },
  "cells": [
    {
      "cell_type": "markdown",
      "metadata": {
        "id": "view-in-github",
        "colab_type": "text"
      },
      "source": [
        "<a href=\"https://colab.research.google.com/github/NBK-code/Intel_Image_Classification/blob/main/Intel_Image_Classification.ipynb\" target=\"_parent\"><img src=\"https://colab.research.google.com/assets/colab-badge.svg\" alt=\"Open In Colab\"/></a>"
      ]
    },
    {
      "cell_type": "markdown",
      "source": [
        "##1. Import Necessary Libraries\n"
      ],
      "metadata": {
        "id": "jvr69ONV3QHv"
      }
    },
    {
      "cell_type": "code",
      "source": [
        "import pathlib\n",
        "import cv2\n",
        "import numpy as np\n",
        "import matplotlib.pylab as plt\n",
        "from tensorflow import keras\n",
        "import tensorflow as tf\n",
        "from tensorflow.keras.applications.vgg16 import VGG16\n",
        "from tensorflow.keras.applications.inception_v3 import InceptionV3\n",
        "from tensorflow.keras.models import Model\n",
        "from tensorflow.keras.layers import Input, Dense, Flatten, Dropout\n",
        "from tensorflow.keras.models import Sequential\n",
        "from tensorflow.keras.losses import SparseCategoricalCrossentropy\n",
        "from tensorflow.keras.callbacks import ModelCheckpoint\n",
        "from tensorflow.keras.models import load_model\n",
        "from sklearn.metrics import confusion_matrix\n",
        "import seaborn as sn"
      ],
      "metadata": {
        "id": "EM9xGy-ms7fO"
      },
      "execution_count": 1,
      "outputs": []
    },
    {
      "cell_type": "markdown",
      "source": [
        "##2. Download Intel Dataset"
      ],
      "metadata": {
        "id": "J-fB_7Qm3XT0"
      }
    },
    {
      "cell_type": "code",
      "execution_count": 2,
      "metadata": {
        "colab": {
          "base_uri": "https://localhost:8080/"
        },
        "id": "CHmsgmZbn0A5",
        "outputId": "1bf98010-0b6d-442d-8158-8b6f4067fdac"
      },
      "outputs": [
        {
          "output_type": "stream",
          "name": "stdout",
          "text": [
            "Done!\n"
          ]
        }
      ],
      "source": [
        "from zipfile import ZipFile\n",
        "file_name = 'Intel.zip'\n",
        "\n",
        "with ZipFile(file_name,'r') as zip:\n",
        "  zip.extractall()\n",
        "  print('Done!')"
      ]
    },
    {
      "cell_type": "markdown",
      "source": [
        "##3. Construct Train and Test Data"
      ],
      "metadata": {
        "id": "uSUJCA4b3gWv"
      }
    },
    {
      "cell_type": "code",
      "source": [
        "data_dir_train = pathlib.Path('/content/seg_train/seg_train')\n",
        "data_dir_test = pathlib.Path('/content/seg_test/seg_test')\n",
        "data_dir_pred = pathlib.Path('/content/seg_pred')"
      ],
      "metadata": {
        "id": "6xeCqvrIwaKs"
      },
      "execution_count": 3,
      "outputs": []
    },
    {
      "cell_type": "code",
      "source": [
        "print('The number of train images:', len(list(data_dir_train.glob('*/*.jpg'))))\n",
        "print('The number of test images:', len(list(data_dir_test.glob('*/*.jpg'))))\n",
        "print('The number of pred images:', len(list(data_dir_pred.glob('*/*.jpg'))))"
      ],
      "metadata": {
        "colab": {
          "base_uri": "https://localhost:8080/"
        },
        "id": "z7nUPw_fvHPy",
        "outputId": "807b49b7-1580-495f-c309-2f1a1251de88"
      },
      "execution_count": 4,
      "outputs": [
        {
          "output_type": "stream",
          "name": "stdout",
          "text": [
            "The number of train images: 14034\n",
            "The number of test images: 3000\n",
            "The number of pred images: 7301\n"
          ]
        }
      ]
    },
    {
      "cell_type": "code",
      "source": [
        "Intel_train_images_dict = {\n",
        "    'buildings': list(data_dir_train.glob('buildings/*')),\n",
        "    'forest': list(data_dir_train.glob('forest/*')),\n",
        "    'glacier': list(data_dir_train.glob('glacier/*')),\n",
        "    'mountain': list(data_dir_train.glob('mountain/*')),\n",
        "    'sea': list(data_dir_train.glob('sea/*')),\n",
        "    'street': list(data_dir_train.glob('street/*'))\n",
        "}"
      ],
      "metadata": {
        "id": "mO4IIIzowTW3"
      },
      "execution_count": 5,
      "outputs": []
    },
    {
      "cell_type": "code",
      "source": [
        "Intel_train_images_len_dict = {\n",
        "    'buildings': len(list(data_dir_train.glob('buildings/*'))),\n",
        "    'forest': len(list(data_dir_train.glob('forest/*'))),\n",
        "    'glacier': len(list(data_dir_train.glob('glacier/*'))),\n",
        "    'mountain': len(list(data_dir_train.glob('mountain/*'))),\n",
        "    'sea': len(list(data_dir_train.glob('sea/*'))),\n",
        "    'street': len(list(data_dir_train.glob('street/*')))\n",
        "}\n",
        "\n",
        "Intel_train_images_len_dict"
      ],
      "metadata": {
        "colab": {
          "base_uri": "https://localhost:8080/"
        },
        "id": "DRqxihwZ15uf",
        "outputId": "7b45542d-c208-4011-fdd3-82c1aa131661"
      },
      "execution_count": 6,
      "outputs": [
        {
          "output_type": "execute_result",
          "data": {
            "text/plain": [
              "{'buildings': 2191,\n",
              " 'forest': 2271,\n",
              " 'glacier': 2404,\n",
              " 'mountain': 2512,\n",
              " 'sea': 2274,\n",
              " 'street': 2382}"
            ]
          },
          "metadata": {},
          "execution_count": 6
        }
      ]
    },
    {
      "cell_type": "markdown",
      "source": [
        "It is a balanced dataset."
      ],
      "metadata": {
        "id": "aznAKJXM2RhL"
      }
    },
    {
      "cell_type": "code",
      "source": [
        "Intel_test_images_dict = {\n",
        "    'buildings': list(data_dir_test.glob('buildings/*')),\n",
        "    'forest': list(data_dir_test.glob('forest/*')),\n",
        "    'glacier': list(data_dir_test.glob('glacier/*')),\n",
        "    'mountain': list(data_dir_test.glob('mountain/*')),\n",
        "    'sea': list(data_dir_test.glob('sea/*')),\n",
        "    'street': list(data_dir_test.glob('street/*'))\n",
        "}"
      ],
      "metadata": {
        "id": "HsA4Q_QGyWST"
      },
      "execution_count": 7,
      "outputs": []
    },
    {
      "cell_type": "code",
      "source": [
        "Intel_labels_dict = {\n",
        "    'buildings': 0,\n",
        "    'forest': 1,\n",
        "    'glacier': 2,\n",
        "    'mountain': 3,\n",
        "    'sea': 4,\n",
        "    'street': 5\n",
        "}"
      ],
      "metadata": {
        "id": "iA_GoAp1ynGr"
      },
      "execution_count": 8,
      "outputs": []
    },
    {
      "cell_type": "code",
      "source": [
        "X_train, y_train = [], []\n",
        "\n",
        "for category, images in Intel_train_images_dict.items():\n",
        "    for image in images:\n",
        "        img = cv2.imread(str(image))\n",
        "        resized_img = cv2.resize(img,(128,128))\n",
        "        X_train.append(resized_img)\n",
        "        y_train.append(Intel_labels_dict[category])"
      ],
      "metadata": {
        "id": "tzM5TDOOzFgW"
      },
      "execution_count": 9,
      "outputs": []
    },
    {
      "cell_type": "code",
      "source": [
        "X_test, y_test = [], []\n",
        "\n",
        "for category, images in Intel_test_images_dict.items():\n",
        "    for image in images:\n",
        "        img = cv2.imread(str(image))\n",
        "        resized_img = cv2.resize(img,(128,128))\n",
        "        X_test.append(resized_img)\n",
        "        y_test.append(Intel_labels_dict[category])"
      ],
      "metadata": {
        "id": "1_HdKhvu0wsf"
      },
      "execution_count": 10,
      "outputs": []
    },
    {
      "cell_type": "code",
      "source": [
        "from sklearn.model_selection import train_test_split\n",
        "X_train, X_val, y_train, y_val = train_test_split(X_train, y_train, test_size = 0.2, random_state=0)"
      ],
      "metadata": {
        "id": "EsA-ZyJ-BZjh"
      },
      "execution_count": 11,
      "outputs": []
    },
    {
      "cell_type": "code",
      "source": [
        "X_train_scaled = np.array(X_train) / 255.0\n",
        "X_val_scaled = np.array(X_val) / 255.0\n",
        "X_test_scaled = np.array(X_test) / 255.0"
      ],
      "metadata": {
        "id": "sKQG_9qc1ntW"
      },
      "execution_count": 12,
      "outputs": []
    },
    {
      "cell_type": "code",
      "source": [
        "y_train = np.array(y_train)\n",
        "y_val = np.array(y_val)\n",
        "y_test = np.array(y_test)"
      ],
      "metadata": {
        "id": "fGhc6yas94jj"
      },
      "execution_count": 13,
      "outputs": []
    },
    {
      "cell_type": "code",
      "source": [
        "print('Shape of X_train_scaled:', X_train_scaled.shape)\n",
        "print('Shape of X_val_scaled:', X_val_scaled.shape)\n",
        "print('Shape of X_test_scaled:', X_test_scaled.shape)"
      ],
      "metadata": {
        "colab": {
          "base_uri": "https://localhost:8080/"
        },
        "id": "ZxR6J35M27Om",
        "outputId": "fdb764a6-c2f1-4488-be59-a1276abbb984"
      },
      "execution_count": 14,
      "outputs": [
        {
          "output_type": "stream",
          "name": "stdout",
          "text": [
            "Shape of X_train_scaled: (11227, 128, 128, 3)\n",
            "Shape of X_val_scaled: (2807, 128, 128, 3)\n",
            "Shape of X_test_scaled: (3000, 128, 128, 3)\n"
          ]
        }
      ]
    },
    {
      "cell_type": "markdown",
      "source": [
        "##4. VGG 16"
      ],
      "metadata": {
        "id": "qD5lP-OIoEpS"
      }
    },
    {
      "cell_type": "markdown",
      "source": [
        "###4.1. Build Model"
      ],
      "metadata": {
        "id": "uHgU--km4AA3"
      }
    },
    {
      "cell_type": "code",
      "source": [
        "vgg16 = VGG16(input_shape = (128,128,3) , weights='imagenet', include_top=False)"
      ],
      "metadata": {
        "id": "Idl5EtKD3G0k",
        "colab": {
          "base_uri": "https://localhost:8080/"
        },
        "outputId": "27756696-1328-4809-8a6f-3c1339828614"
      },
      "execution_count": 15,
      "outputs": [
        {
          "output_type": "stream",
          "name": "stdout",
          "text": [
            "Downloading data from https://storage.googleapis.com/tensorflow/keras-applications/vgg16/vgg16_weights_tf_dim_ordering_tf_kernels_notop.h5\n",
            "58892288/58889256 [==============================] - 0s 0us/step\n",
            "58900480/58889256 [==============================] - 0s 0us/step\n"
          ]
        }
      ]
    },
    {
      "cell_type": "code",
      "source": [
        "for layer in vgg16.layers:\n",
        "    layer.trainable = False"
      ],
      "metadata": {
        "id": "iCTBRcYc4aIS"
      },
      "execution_count": 16,
      "outputs": []
    },
    {
      "cell_type": "code",
      "source": [
        "h1 = Flatten()(vgg16.output)\n",
        "h2 = Dense(200, activation = 'relu')(h1)\n",
        "h3 = Dropout(0.2)(h2)\n",
        "h4 = Dense(200, activation = 'relu')(h3)\n",
        "prediction = Dense(6, activation='softmax')(h4)\n",
        "\n",
        "model = Model(inputs=vgg16.input, outputs=prediction)"
      ],
      "metadata": {
        "id": "0D-IMBMk4cqQ"
      },
      "execution_count": 17,
      "outputs": []
    },
    {
      "cell_type": "code",
      "source": [
        "model.compile(loss=SparseCategoricalCrossentropy(), optimizer='adam', metrics=['accuracy'])"
      ],
      "metadata": {
        "id": "GcZIZFah5LFl"
      },
      "execution_count": 18,
      "outputs": []
    },
    {
      "cell_type": "code",
      "source": [
        "cp = ModelCheckpoint('models/VGG_transfer_learning', save_best_only=True)\n",
        "r = model.fit(X_train_scaled, y_train, epochs=10, validation_data=(X_val_scaled, y_val), callbacks = [cp])"
      ],
      "metadata": {
        "colab": {
          "base_uri": "https://localhost:8080/"
        },
        "id": "iJFpXixj5yT9",
        "outputId": "ada30f62-5611-4357-c0e2-d375dbca1988"
      },
      "execution_count": 19,
      "outputs": [
        {
          "output_type": "stream",
          "name": "stdout",
          "text": [
            "Epoch 1/10\n",
            "351/351 [==============================] - ETA: 0s - loss: 0.5035 - accuracy: 0.8137INFO:tensorflow:Assets written to: models/VGG_transfer_learning/assets\n",
            "351/351 [==============================] - 26s 44ms/step - loss: 0.5035 - accuracy: 0.8137 - val_loss: 0.3523 - val_accuracy: 0.8703\n",
            "Epoch 2/10\n",
            "351/351 [==============================] - ETA: 0s - loss: 0.3384 - accuracy: 0.8768INFO:tensorflow:Assets written to: models/VGG_transfer_learning/assets\n",
            "351/351 [==============================] - 14s 40ms/step - loss: 0.3384 - accuracy: 0.8768 - val_loss: 0.3212 - val_accuracy: 0.8874\n",
            "Epoch 3/10\n",
            "351/351 [==============================] - 12s 34ms/step - loss: 0.2861 - accuracy: 0.8961 - val_loss: 0.3367 - val_accuracy: 0.8839\n",
            "Epoch 4/10\n",
            "351/351 [==============================] - 12s 35ms/step - loss: 0.2448 - accuracy: 0.9099 - val_loss: 0.3261 - val_accuracy: 0.8799\n",
            "Epoch 5/10\n",
            "351/351 [==============================] - 12s 35ms/step - loss: 0.2195 - accuracy: 0.9159 - val_loss: 0.3372 - val_accuracy: 0.8839\n",
            "Epoch 6/10\n",
            "351/351 [==============================] - 12s 35ms/step - loss: 0.1923 - accuracy: 0.9307 - val_loss: 0.3492 - val_accuracy: 0.8888\n",
            "Epoch 7/10\n",
            "351/351 [==============================] - 12s 34ms/step - loss: 0.1682 - accuracy: 0.9375 - val_loss: 0.3980 - val_accuracy: 0.8814\n",
            "Epoch 8/10\n",
            "351/351 [==============================] - 12s 34ms/step - loss: 0.1673 - accuracy: 0.9382 - val_loss: 0.4327 - val_accuracy: 0.8710\n",
            "Epoch 9/10\n",
            "351/351 [==============================] - 12s 34ms/step - loss: 0.1412 - accuracy: 0.9486 - val_loss: 0.5217 - val_accuracy: 0.8767\n",
            "Epoch 10/10\n",
            "351/351 [==============================] - 12s 34ms/step - loss: 0.1278 - accuracy: 0.9516 - val_loss: 0.5079 - val_accuracy: 0.8571\n"
          ]
        }
      ]
    },
    {
      "cell_type": "code",
      "source": [
        "# plot the loss\n",
        "plt.plot(r.history['loss'], label='train loss')\n",
        "plt.plot(r.history['val_loss'], label='val loss')\n",
        "plt.legend()\n",
        "plt.show()\n",
        "plt.savefig('LossVal_loss')\n",
        "\n",
        "# plot the accuracy\n",
        "plt.plot(r.history['accuracy'], label='train acc')\n",
        "plt.plot(r.history['val_accuracy'], label='val acc')\n",
        "plt.legend()\n",
        "plt.show()\n",
        "plt.savefig('AccVal_acc')"
      ],
      "metadata": {
        "colab": {
          "base_uri": "https://localhost:8080/",
          "height": 530
        },
        "id": "b7lFvFVR58yU",
        "outputId": "8d5c0295-454c-4516-af8e-6614807ab407"
      },
      "execution_count": 20,
      "outputs": [
        {
          "output_type": "display_data",
          "data": {
            "text/plain": [
              "<Figure size 432x288 with 1 Axes>"
            ],
            "image/png": "[encoded data removed]"
          },
          "metadata": {
            "needs_background": "light"
          }
        },
        {
          "output_type": "display_data",
          "data": {
            "text/plain": [
              "<Figure size 432x288 with 1 Axes>"
            ],
            "image/png": "[encoded data removed]"
          },
          "metadata": {
            "needs_background": "light"
          }
        },
        {
          "output_type": "display_data",
          "data": {
            "text/plain": [
              "<Figure size 432x288 with 0 Axes>"
            ]
          },
          "metadata": {}
        }
      ]
    },
    {
      "cell_type": "markdown",
      "source": [
        "###4.2. Model Predictions"
      ],
      "metadata": {
        "id": "3oCDTNk1AhLe"
      }
    },
    {
      "cell_type": "code",
      "source": [
        "model = load_model('models/VGG_transfer_learning')"
      ],
      "metadata": {
        "id": "x2X-Hpj1IPd7"
      },
      "execution_count": 21,
      "outputs": []
    },
    {
      "cell_type": "code",
      "source": [
        "model.evaluate(X_test_scaled,y_test)"
      ],
      "metadata": {
        "colab": {
          "base_uri": "https://localhost:8080/"
        },
        "id": "z-8l4rZ8_Qcp",
        "outputId": "bd713b0c-eeb0-465e-8aa3-99027785862c"
      },
      "execution_count": 22,
      "outputs": [
        {
          "output_type": "stream",
          "name": "stdout",
          "text": [
            "94/94 [==============================] - 3s 31ms/step - loss: 0.3275 - accuracy: 0.8790\n"
          ]
        },
        {
          "output_type": "execute_result",
          "data": {
            "text/plain": [
              "[0.3275226950645447, 0.8790000081062317]"
            ]
          },
          "metadata": {},
          "execution_count": 22
        }
      ]
    },
    {
      "cell_type": "code",
      "source": [
        "test_predictions = model.predict(X_test_scaled)  \n",
        "test_pred_labels = np.argmax(test_predictions, axis = 1)"
      ],
      "metadata": {
        "id": "ZyT6qB14DY2n"
      },
      "execution_count": 23,
      "outputs": []
    },
    {
      "cell_type": "code",
      "source": [
        "CM = confusion_matrix(y_test, test_pred_labels)\n",
        "ax = plt.axes()\n",
        "class_names = ['buildings', 'forest', 'glacier', 'mountain', 'sea', 'street']\n",
        "sn.heatmap(CM, annot=True, \n",
        "           annot_kws={\"size\": 8}, \n",
        "           xticklabels=class_names, \n",
        "           yticklabels=class_names, ax = ax, cmap='Blues')\n",
        "ax.set_title('Confusion matrix')\n",
        "plt.show()"
      ],
      "metadata": {
        "colab": {
          "base_uri": "https://localhost:8080/",
          "height": 281
        },
        "id": "BV7K_0pVESEh",
        "outputId": "b19b1ddd-3954-40ec-b176-6e2ee1a7007e"
      },
      "execution_count": 24,
      "outputs": [
        {
          "output_type": "display_data",
          "data": {
            "text/plain": [
              "<Figure size 432x288 with 2 Axes>"
            ],
            "image/png": "[encoded data removed]"
          },
          "metadata": {
            "needs_background": "light"
          }
        }
      ]
    },
    {
      "cell_type": "markdown",
      "source": [
        "##5. Inception v3"
      ],
      "metadata": {
        "id": "XBdlB0ThoRI_"
      }
    },
    {
      "cell_type": "markdown",
      "source": [
        "###5.1. Build Model"
      ],
      "metadata": {
        "id": "XwuDgjo-oWDI"
      }
    },
    {
      "cell_type": "code",
      "source": [
        "inceptionv3 = InceptionV3(input_shape = (128,128,3) , weights='imagenet', include_top=False)"
      ],
      "metadata": {
        "colab": {
          "base_uri": "https://localhost:8080/"
        },
        "id": "L6N1XfaeFAdq",
        "outputId": "fa40f170-7d19-4fbe-838f-4cf8178240f2"
      },
      "execution_count": null,
      "outputs": [
        {
          "output_type": "stream",
          "name": "stdout",
          "text": [
            "Downloading data from https://storage.googleapis.com/tensorflow/keras-applications/inception_v3/inception_v3_weights_tf_dim_ordering_tf_kernels_notop.h5\n",
            "87916544/87910968 [==============================] - 0s 0us/step\n",
            "87924736/87910968 [==============================] - 0s 0us/step\n"
          ]
        }
      ]
    },
    {
      "cell_type": "code",
      "source": [
        "for layer in inceptionv3.layers:\n",
        "    layer.trainable = False"
      ],
      "metadata": {
        "id": "NT9hL0E1okzu"
      },
      "execution_count": null,
      "outputs": []
    },
    {
      "cell_type": "code",
      "source": [
        "h1 = Flatten()(inceptionv3.output)\n",
        "h2 = Dense(200, activation = 'relu')(h1)\n",
        "h3 = Dropout(0.2)(h2)\n",
        "h4 = Dense(200, activation = 'relu')(h3)\n",
        "prediction = Dense(6, activation='softmax')(h4)\n",
        "\n",
        "model = Model(inputs=inceptionv3.input, outputs=prediction)"
      ],
      "metadata": {
        "id": "BoHbVV2UpbR4"
      },
      "execution_count": 27,
      "outputs": []
    },
    {
      "cell_type": "code",
      "source": [
        "model.compile(loss=SparseCategoricalCrossentropy(), optimizer='adam', metrics=['accuracy'])"
      ],
      "metadata": {
        "id": "yT9ptDl1pvTW"
      },
      "execution_count": 29,
      "outputs": []
    },
    {
      "cell_type": "code",
      "source": [
        "cp = ModelCheckpoint('models/inceptionv3_transfer_learning', save_best_only=True)\n",
        "r = model.fit(X_train_scaled, y_train, epochs=10, validation_data=(X_val_scaled, y_val), callbacks = [cp])"
      ],
      "metadata": {
        "colab": {
          "base_uri": "https://localhost:8080/"
        },
        "id": "L4kvSawGqRHu",
        "outputId": "8c058779-86a4-45bd-cd53-b71ed0828e7d"
      },
      "execution_count": 30,
      "outputs": [
        {
          "output_type": "stream",
          "name": "stdout",
          "text": [
            "Epoch 1/10\n",
            "350/351 [============================>.] - ETA: 0s - loss: 0.7303 - accuracy: 0.7449INFO:tensorflow:Assets written to: models/inceptionv3_transfer_learning/assets\n",
            "351/351 [==============================] - 44s 114ms/step - loss: 0.7301 - accuracy: 0.7450 - val_loss: 0.5339 - val_accuracy: 0.8147\n",
            "Epoch 2/10\n",
            "351/351 [==============================] - ETA: 0s - loss: 0.5142 - accuracy: 0.8083INFO:tensorflow:Assets written to: models/inceptionv3_transfer_learning/assets\n",
            "351/351 [==============================] - 38s 108ms/step - loss: 0.5142 - accuracy: 0.8083 - val_loss: 0.5119 - val_accuracy: 0.8169\n",
            "Epoch 3/10\n",
            "351/351 [==============================] - ETA: 0s - loss: 0.4454 - accuracy: 0.8350INFO:tensorflow:Assets written to: models/inceptionv3_transfer_learning/assets\n",
            "351/351 [==============================] - 38s 108ms/step - loss: 0.4454 - accuracy: 0.8350 - val_loss: 0.4904 - val_accuracy: 0.8279\n",
            "Epoch 4/10\n",
            "351/351 [==============================] - ETA: 0s - loss: 0.4049 - accuracy: 0.8478INFO:tensorflow:Assets written to: models/inceptionv3_transfer_learning/assets\n",
            "351/351 [==============================] - 38s 108ms/step - loss: 0.4049 - accuracy: 0.8478 - val_loss: 0.4754 - val_accuracy: 0.8365\n",
            "Epoch 5/10\n",
            "351/351 [==============================] - ETA: 0s - loss: 0.3649 - accuracy: 0.8643INFO:tensorflow:Assets written to: models/inceptionv3_transfer_learning/assets\n",
            "351/351 [==============================] - 38s 108ms/step - loss: 0.3649 - accuracy: 0.8643 - val_loss: 0.4492 - val_accuracy: 0.8561\n",
            "Epoch 6/10\n",
            "351/351 [==============================] - 13s 38ms/step - loss: 0.3506 - accuracy: 0.8677 - val_loss: 0.4868 - val_accuracy: 0.8400\n",
            "Epoch 7/10\n",
            "351/351 [==============================] - 13s 38ms/step - loss: 0.3144 - accuracy: 0.8811 - val_loss: 0.4712 - val_accuracy: 0.8461\n",
            "Epoch 8/10\n",
            "351/351 [==============================] - 13s 38ms/step - loss: 0.3130 - accuracy: 0.8846 - val_loss: 0.4947 - val_accuracy: 0.8432\n",
            "Epoch 9/10\n",
            "351/351 [==============================] - 13s 37ms/step - loss: 0.2770 - accuracy: 0.8941 - val_loss: 0.4926 - val_accuracy: 0.8372\n",
            "Epoch 10/10\n",
            "351/351 [==============================] - 13s 37ms/step - loss: 0.2686 - accuracy: 0.9008 - val_loss: 0.5079 - val_accuracy: 0.8411\n"
          ]
        }
      ]
    },
    {
      "cell_type": "code",
      "source": [
        "# plot the loss\n",
        "plt.plot(r.history['loss'], label='train loss')\n",
        "plt.plot(r.history['val_loss'], label='val loss')\n",
        "plt.legend()\n",
        "plt.show()\n",
        "plt.savefig('LossVal_loss')\n",
        "\n",
        "# plot the accuracy\n",
        "plt.plot(r.history['accuracy'], label='train acc')\n",
        "plt.plot(r.history['val_accuracy'], label='val acc')\n",
        "plt.legend()\n",
        "plt.show()\n",
        "plt.savefig('AccVal_acc')"
      ],
      "metadata": {
        "colab": {
          "base_uri": "https://localhost:8080/",
          "height": 530
        },
        "id": "RpCg78k4qaDA",
        "outputId": "c8c17caf-9b11-440a-80d1-1e6d5290161b"
      },
      "execution_count": 31,
      "outputs": [
        {
          "output_type": "display_data",
          "data": {
            "text/plain": [
              "<Figure size 432x288 with 1 Axes>"
            ],
            "image/png": "[encoded data removed]"
          },
          "metadata": {
            "needs_background": "light"
          }
        },
        {
          "output_type": "display_data",
          "data": {
            "text/plain": [
              "<Figure size 432x288 with 1 Axes>"
            ],
            "image/png": "[encoded data removed]"
          },
          "metadata": {
            "needs_background": "light"
          }
        },
        {
          "output_type": "display_data",
          "data": {
            "text/plain": [
              "<Figure size 432x288 with 0 Axes>"
            ]
          },
          "metadata": {}
        }
      ]
    },
    {
      "cell_type": "markdown",
      "source": [
        "###5.2. Model Predictions"
      ],
      "metadata": {
        "id": "BYZLhqoKrYgX"
      }
    },
    {
      "cell_type": "code",
      "source": [
        "model = load_model('models/inceptionv3_transfer_learning')"
      ],
      "metadata": {
        "id": "JcZnbargrPSq"
      },
      "execution_count": 32,
      "outputs": []
    },
    {
      "cell_type": "code",
      "source": [
        "model.evaluate(X_test_scaled,y_test)"
      ],
      "metadata": {
        "colab": {
          "base_uri": "https://localhost:8080/"
        },
        "id": "Iq6BRQ8grdlL",
        "outputId": "13f043ca-dbb0-4d87-862c-7320568d3e4c"
      },
      "execution_count": 33,
      "outputs": [
        {
          "output_type": "stream",
          "name": "stdout",
          "text": [
            "94/94 [==============================] - 4s 32ms/step - loss: 0.4426 - accuracy: 0.8420\n"
          ]
        },
        {
          "output_type": "execute_result",
          "data": {
            "text/plain": [
              "[0.44255924224853516, 0.8420000076293945]"
            ]
          },
          "metadata": {},
          "execution_count": 33
        }
      ]
    },
    {
      "cell_type": "code",
      "source": [
        "test_predictions = model.predict(X_test_scaled)  \n",
        "test_pred_labels = np.argmax(test_predictions, axis = 1)"
      ],
      "metadata": {
        "id": "yRI3B23KroRp"
      },
      "execution_count": 34,
      "outputs": []
    },
    {
      "cell_type": "code",
      "source": [
        "CM = confusion_matrix(y_test, test_pred_labels)\n",
        "ax = plt.axes()\n",
        "class_names = ['buildings', 'forest', 'glacier', 'mountain', 'sea', 'street']\n",
        "sn.heatmap(CM, annot=True, \n",
        "           annot_kws={\"size\": 8}, \n",
        "           xticklabels=class_names, \n",
        "           yticklabels=class_names, ax = ax, cmap='Blues')\n",
        "ax.set_title('Confusion matrix')\n",
        "plt.show()"
      ],
      "metadata": {
        "colab": {
          "base_uri": "https://localhost:8080/",
          "height": 281
        },
        "id": "NMnrDvt8rw2O",
        "outputId": "eed357b6-d781-4669-9ebc-58987bec358c"
      },
      "execution_count": 35,
      "outputs": [
        {
          "output_type": "display_data",
          "data": {
            "text/plain": [
              "<Figure size 432x288 with 2 Axes>"
            ],
            "image/png": "[encoded data removed]"
          },
          "metadata": {
            "needs_background": "light"
          }
        }
      ]
    },
    {
      "cell_type": "code",
      "source": [
        ""
      ],
      "metadata": {
        "id": "Vk9edFaer30K"
      },
      "execution_count": null,
      "outputs": []
    }
  ]
}