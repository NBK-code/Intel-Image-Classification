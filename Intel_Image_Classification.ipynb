{
  "nbformat": 4,
  "nbformat_minor": 0,
  "metadata": {
    "colab": {
      "name": "Intel_Image_Classification.ipynb",
      "provenance": [],
      "collapsed_sections": [],
      "machine_shape": "hm",
      "authorship_tag": "ABX9TyPEC8lvjGFbazoz7g882YNY",
      "include_colab_link": true
    },
    "kernelspec": {
      "name": "python3",
      "display_name": "Python 3"
    },
    "language_info": {
      "name": "python"
    },
    "accelerator": "GPU"
  },
  "cells": [
    {
      "cell_type": "markdown",
      "metadata": {
        "id": "view-in-github",
        "colab_type": "text"
      },
      "source": [
        "<a href=\"https://colab.research.google.com/github/NBK-code/Intel_Image_Classification/blob/main/Intel_Image_Classification.ipynb\" target=\"_parent\"><img src=\"https://colab.research.google.com/assets/colab-badge.svg\" alt=\"Open In Colab\"/></a>"
      ]
    },
    {
      "cell_type": "markdown",
      "source": [
        "##1. Import Necessary Libraries\n"
      ],
      "metadata": {
        "id": "jvr69ONV3QHv"
      }
    },
    {
      "cell_type": "code",
      "source": [
        "import pathlib\n",
        "import cv2\n",
        "import numpy as np\n",
        "import matplotlib.pylab as plt\n",
        "from tensorflow import keras\n",
        "import tensorflow as tf\n",
        "from tensorflow.keras.applications.vgg16 import VGG16\n",
        "from tensorflow.keras.applications.inception_v3 import InceptionV3\n",
        "from tensorflow.keras.applications import ResNet50\n",
        "from tensorflow.keras.models import Model\n",
        "from tensorflow.keras.layers import Input, Dense, Flatten, Dropout\n",
        "from tensorflow.keras.models import Sequential\n",
        "from tensorflow.keras.losses import SparseCategoricalCrossentropy\n",
        "from tensorflow.keras.callbacks import ModelCheckpoint\n",
        "from tensorflow.keras.models import load_model\n",
        "from sklearn.metrics import confusion_matrix\n",
        "import seaborn as sn"
      ],
      "metadata": {
        "id": "EM9xGy-ms7fO"
      },
      "execution_count": 1,
      "outputs": []
    },
    {
      "cell_type": "markdown",
      "source": [
        "##2. Download Intel Dataset"
      ],
      "metadata": {
        "id": "J-fB_7Qm3XT0"
      }
    },
    {
      "cell_type": "code",
      "execution_count": 2,
      "metadata": {
        "colab": {
          "base_uri": "https://localhost:8080/"
        },
        "id": "CHmsgmZbn0A5",
        "outputId": "e3d3fb3d-f3dd-4425-c553-41d1f7ca5078"
      },
      "outputs": [
        {
          "output_type": "stream",
          "name": "stdout",
          "text": [
            "Done!\n"
          ]
        }
      ],
      "source": [
        "from zipfile import ZipFile\n",
        "file_name = 'Intel.zip'\n",
        "\n",
        "with ZipFile(file_name,'r') as zip:\n",
        "  zip.extractall()\n",
        "  print('Done!')"
      ]
    },
    {
      "cell_type": "markdown",
      "source": [
        "##3. Construct Train and Test Data"
      ],
      "metadata": {
        "id": "uSUJCA4b3gWv"
      }
    },
    {
      "cell_type": "code",
      "source": [
        "data_dir_train = pathlib.Path('/content/seg_train/seg_train')\n",
        "data_dir_test = pathlib.Path('/content/seg_test/seg_test')\n",
        "data_dir_pred = pathlib.Path('/content/seg_pred')"
      ],
      "metadata": {
        "id": "6xeCqvrIwaKs"
      },
      "execution_count": 3,
      "outputs": []
    },
    {
      "cell_type": "code",
      "source": [
        "print('The number of train images:', len(list(data_dir_train.glob('*/*.jpg'))))\n",
        "print('The number of test images:', len(list(data_dir_test.glob('*/*.jpg'))))\n",
        "print('The number of pred images:', len(list(data_dir_pred.glob('*/*.jpg'))))"
      ],
      "metadata": {
        "colab": {
          "base_uri": "https://localhost:8080/"
        },
        "id": "z7nUPw_fvHPy",
        "outputId": "dcd236e0-eedb-43ba-aabe-11fc6caf4bb5"
      },
      "execution_count": 4,
      "outputs": [
        {
          "output_type": "stream",
          "name": "stdout",
          "text": [
            "The number of train images: 14034\n",
            "The number of test images: 3000\n",
            "The number of pred images: 7301\n"
          ]
        }
      ]
    },
    {
      "cell_type": "code",
      "source": [
        "Intel_train_images_dict = {\n",
        "    'buildings': list(data_dir_train.glob('buildings/*')),\n",
        "    'forest': list(data_dir_train.glob('forest/*')),\n",
        "    'glacier': list(data_dir_train.glob('glacier/*')),\n",
        "    'mountain': list(data_dir_train.glob('mountain/*')),\n",
        "    'sea': list(data_dir_train.glob('sea/*')),\n",
        "    'street': list(data_dir_train.glob('street/*'))\n",
        "}"
      ],
      "metadata": {
        "id": "mO4IIIzowTW3"
      },
      "execution_count": 5,
      "outputs": []
    },
    {
      "cell_type": "code",
      "source": [
        "Intel_train_images_len_dict = {\n",
        "    'buildings': len(list(data_dir_train.glob('buildings/*'))),\n",
        "    'forest': len(list(data_dir_train.glob('forest/*'))),\n",
        "    'glacier': len(list(data_dir_train.glob('glacier/*'))),\n",
        "    'mountain': len(list(data_dir_train.glob('mountain/*'))),\n",
        "    'sea': len(list(data_dir_train.glob('sea/*'))),\n",
        "    'street': len(list(data_dir_train.glob('street/*')))\n",
        "}\n",
        "\n",
        "Intel_train_images_len_dict"
      ],
      "metadata": {
        "colab": {
          "base_uri": "https://localhost:8080/"
        },
        "id": "DRqxihwZ15uf",
        "outputId": "d01e59dc-98a0-4b61-bb03-9218c498abeb"
      },
      "execution_count": 6,
      "outputs": [
        {
          "output_type": "execute_result",
          "data": {
            "text/plain": [
              "{'buildings': 2191,\n",
              " 'forest': 2271,\n",
              " 'glacier': 2404,\n",
              " 'mountain': 2512,\n",
              " 'sea': 2274,\n",
              " 'street': 2382}"
            ]
          },
          "metadata": {},
          "execution_count": 6
        }
      ]
    },
    {
      "cell_type": "markdown",
      "source": [
        "It is a balanced dataset."
      ],
      "metadata": {
        "id": "aznAKJXM2RhL"
      }
    },
    {
      "cell_type": "code",
      "source": [
        "Intel_test_images_dict = {\n",
        "    'buildings': list(data_dir_test.glob('buildings/*')),\n",
        "    'forest': list(data_dir_test.glob('forest/*')),\n",
        "    'glacier': list(data_dir_test.glob('glacier/*')),\n",
        "    'mountain': list(data_dir_test.glob('mountain/*')),\n",
        "    'sea': list(data_dir_test.glob('sea/*')),\n",
        "    'street': list(data_dir_test.glob('street/*'))\n",
        "}"
      ],
      "metadata": {
        "id": "HsA4Q_QGyWST"
      },
      "execution_count": 7,
      "outputs": []
    },
    {
      "cell_type": "code",
      "source": [
        "Intel_labels_dict = {\n",
        "    'buildings': 0,\n",
        "    'forest': 1,\n",
        "    'glacier': 2,\n",
        "    'mountain': 3,\n",
        "    'sea': 4,\n",
        "    'street': 5\n",
        "}"
      ],
      "metadata": {
        "id": "iA_GoAp1ynGr"
      },
      "execution_count": 8,
      "outputs": []
    },
    {
      "cell_type": "code",
      "source": [
        "X_train, y_train = [], []\n",
        "\n",
        "for category, images in Intel_train_images_dict.items():\n",
        "    for image in images:\n",
        "        img = cv2.imread(str(image))\n",
        "        resized_img = cv2.resize(img,(128,128))\n",
        "        X_train.append(resized_img)\n",
        "        y_train.append(Intel_labels_dict[category])"
      ],
      "metadata": {
        "id": "tzM5TDOOzFgW"
      },
      "execution_count": 9,
      "outputs": []
    },
    {
      "cell_type": "code",
      "source": [
        "X_test, y_test = [], []\n",
        "\n",
        "for category, images in Intel_test_images_dict.items():\n",
        "    for image in images:\n",
        "        img = cv2.imread(str(image))\n",
        "        resized_img = cv2.resize(img,(128,128))\n",
        "        X_test.append(resized_img)\n",
        "        y_test.append(Intel_labels_dict[category])"
      ],
      "metadata": {
        "id": "1_HdKhvu0wsf"
      },
      "execution_count": 10,
      "outputs": []
    },
    {
      "cell_type": "code",
      "source": [
        "from sklearn.model_selection import train_test_split\n",
        "X_train, X_val, y_train, y_val = train_test_split(X_train, y_train, test_size = 0.2, random_state=0)"
      ],
      "metadata": {
        "id": "EsA-ZyJ-BZjh"
      },
      "execution_count": 11,
      "outputs": []
    },
    {
      "cell_type": "code",
      "source": [
        "X_train_scaled = np.array(X_train) / 255.0\n",
        "X_val_scaled = np.array(X_val) / 255.0\n",
        "X_test_scaled = np.array(X_test) / 255.0"
      ],
      "metadata": {
        "id": "sKQG_9qc1ntW"
      },
      "execution_count": 12,
      "outputs": []
    },
    {
      "cell_type": "code",
      "source": [
        "y_train = np.array(y_train)\n",
        "y_val = np.array(y_val)\n",
        "y_test = np.array(y_test)"
      ],
      "metadata": {
        "id": "fGhc6yas94jj"
      },
      "execution_count": 13,
      "outputs": []
    },
    {
      "cell_type": "code",
      "source": [
        "print('Shape of X_train_scaled:', X_train_scaled.shape)\n",
        "print('Shape of X_val_scaled:', X_val_scaled.shape)\n",
        "print('Shape of X_test_scaled:', X_test_scaled.shape)"
      ],
      "metadata": {
        "colab": {
          "base_uri": "https://localhost:8080/"
        },
        "id": "ZxR6J35M27Om",
        "outputId": "01db537f-9e8c-45a5-944d-85397d94332e"
      },
      "execution_count": 14,
      "outputs": [
        {
          "output_type": "stream",
          "name": "stdout",
          "text": [
            "Shape of X_train_scaled: (11227, 128, 128, 3)\n",
            "Shape of X_val_scaled: (2807, 128, 128, 3)\n",
            "Shape of X_test_scaled: (3000, 128, 128, 3)\n"
          ]
        }
      ]
    },
    {
      "cell_type": "markdown",
      "source": [
        "##4. VGG 16"
      ],
      "metadata": {
        "id": "qD5lP-OIoEpS"
      }
    },
    {
      "cell_type": "markdown",
      "source": [
        "###4.1. Build Model"
      ],
      "metadata": {
        "id": "uHgU--km4AA3"
      }
    },
    {
      "cell_type": "code",
      "source": [
        "vgg16 = VGG16(input_shape = (128,128,3) , weights='imagenet', include_top=False)"
      ],
      "metadata": {
        "id": "Idl5EtKD3G0k",
        "colab": {
          "base_uri": "https://localhost:8080/"
        },
        "outputId": "27756696-1328-4809-8a6f-3c1339828614"
      },
      "execution_count": 15,
      "outputs": [
        {
          "output_type": "stream",
          "name": "stdout",
          "text": [
            "Downloading data from https://storage.googleapis.com/tensorflow/keras-applications/vgg16/vgg16_weights_tf_dim_ordering_tf_kernels_notop.h5\n",
            "58892288/58889256 [==============================] - 0s 0us/step\n",
            "58900480/58889256 [==============================] - 0s 0us/step\n"
          ]
        }
      ]
    },
    {
      "cell_type": "code",
      "source": [
        "for layer in vgg16.layers:\n",
        "    layer.trainable = False"
      ],
      "metadata": {
        "id": "iCTBRcYc4aIS"
      },
      "execution_count": 16,
      "outputs": []
    },
    {
      "cell_type": "code",
      "source": [
        "h1 = Flatten()(vgg16.output)\n",
        "h2 = Dense(200, activation = 'relu')(h1)\n",
        "h3 = Dropout(0.2)(h2)\n",
        "h4 = Dense(200, activation = 'relu')(h3)\n",
        "prediction = Dense(6, activation='softmax')(h4)\n",
        "\n",
        "model = Model(inputs=vgg16.input, outputs=prediction)"
      ],
      "metadata": {
        "id": "0D-IMBMk4cqQ"
      },
      "execution_count": 17,
      "outputs": []
    },
    {
      "cell_type": "code",
      "source": [
        "model.compile(loss=SparseCategoricalCrossentropy(), optimizer='adam', metrics=['accuracy'])"
      ],
      "metadata": {
        "id": "GcZIZFah5LFl"
      },
      "execution_count": 18,
      "outputs": []
    },
    {
      "cell_type": "code",
      "source": [
        "cp = ModelCheckpoint('models/VGG_transfer_learning', save_best_only=True)\n",
        "r = model.fit(X_train_scaled, y_train, epochs=10, validation_data=(X_val_scaled, y_val), callbacks = [cp])"
      ],
      "metadata": {
        "colab": {
          "base_uri": "https://localhost:8080/"
        },
        "id": "iJFpXixj5yT9",
        "outputId": "ada30f62-5611-4357-c0e2-d375dbca1988"
      },
      "execution_count": 19,
      "outputs": [
        {
          "output_type": "stream",
          "name": "stdout",
          "text": [
            "Epoch 1/10\n",
            "351/351 [==============================] - ETA: 0s - loss: 0.5035 - accuracy: 0.8137INFO:tensorflow:Assets written to: models/VGG_transfer_learning/assets\n",
            "351/351 [==============================] - 26s 44ms/step - loss: 0.5035 - accuracy: 0.8137 - val_loss: 0.3523 - val_accuracy: 0.8703\n",
            "Epoch 2/10\n",
            "351/351 [==============================] - ETA: 0s - loss: 0.3384 - accuracy: 0.8768INFO:tensorflow:Assets written to: models/VGG_transfer_learning/assets\n",
            "351/351 [==============================] - 14s 40ms/step - loss: 0.3384 - accuracy: 0.8768 - val_loss: 0.3212 - val_accuracy: 0.8874\n",
            "Epoch 3/10\n",
            "351/351 [==============================] - 12s 34ms/step - loss: 0.2861 - accuracy: 0.8961 - val_loss: 0.3367 - val_accuracy: 0.8839\n",
            "Epoch 4/10\n",
            "351/351 [==============================] - 12s 35ms/step - loss: 0.2448 - accuracy: 0.9099 - val_loss: 0.3261 - val_accuracy: 0.8799\n",
            "Epoch 5/10\n",
            "351/351 [==============================] - 12s 35ms/step - loss: 0.2195 - accuracy: 0.9159 - val_loss: 0.3372 - val_accuracy: 0.8839\n",
            "Epoch 6/10\n",
            "351/351 [==============================] - 12s 35ms/step - loss: 0.1923 - accuracy: 0.9307 - val_loss: 0.3492 - val_accuracy: 0.8888\n",
            "Epoch 7/10\n",
            "351/351 [==============================] - 12s 34ms/step - loss: 0.1682 - accuracy: 0.9375 - val_loss: 0.3980 - val_accuracy: 0.8814\n",
            "Epoch 8/10\n",
            "351/351 [==============================] - 12s 34ms/step - loss: 0.1673 - accuracy: 0.9382 - val_loss: 0.4327 - val_accuracy: 0.8710\n",
            "Epoch 9/10\n",
            "351/351 [==============================] - 12s 34ms/step - loss: 0.1412 - accuracy: 0.9486 - val_loss: 0.5217 - val_accuracy: 0.8767\n",
            "Epoch 10/10\n",
            "351/351 [==============================] - 12s 34ms/step - loss: 0.1278 - accuracy: 0.9516 - val_loss: 0.5079 - val_accuracy: 0.8571\n"
          ]
        }
      ]
    },
    {
      "cell_type": "code",
      "source": [
        "# plot the loss\n",
        "plt.plot(r.history['loss'], label='train loss')\n",
        "plt.plot(r.history['val_loss'], label='val loss')\n",
        "plt.legend()\n",
        "plt.show()\n",
        "plt.savefig('LossVal_loss')\n",
        "\n",
        "# plot the accuracy\n",
        "plt.plot(r.history['accuracy'], label='train acc')\n",
        "plt.plot(r.history['val_accuracy'], label='val acc')\n",
        "plt.legend()\n",
        "plt.show()\n",
        "plt.savefig('AccVal_acc')"
      ],
      "metadata": {
        "colab": {
          "base_uri": "https://localhost:8080/",
          "height": 530
        },
        "id": "b7lFvFVR58yU",
        "outputId": "8d5c0295-454c-4516-af8e-6614807ab407"
      },
      "execution_count": 20,
      "outputs": [
        {
          "output_type": "display_data",
          "data": {
            "text/plain": [
              "<Figure size 432x288 with 1 Axes>"
            ],
            "image/png": "[encoded data removed]"
          },
          "metadata": {
            "needs_background": "light"
          }
        },
        {
          "output_type": "display_data",
          "data": {
            "text/plain": [
              "<Figure size 432x288 with 1 Axes>"
            ],
            "image/png": "[encoded data removed]"
          },
          "metadata": {
            "needs_background": "light"
          }
        },
        {
          "output_type": "display_data",
          "data": {
            "text/plain": [
              "<Figure size 432x288 with 0 Axes>"
            ]
          },
          "metadata": {}
        }
      ]
    },
    {
      "cell_type": "markdown",
      "source": [
        "###4.2. Model Predictions"
      ],
      "metadata": {
        "id": "3oCDTNk1AhLe"
      }
    },
    {
      "cell_type": "code",
      "source": [
        "model = load_model('models/VGG_transfer_learning')"
      ],
      "metadata": {
        "id": "x2X-Hpj1IPd7"
      },
      "execution_count": 21,
      "outputs": []
    },
    {
      "cell_type": "code",
      "source": [
        "model.evaluate(X_test_scaled,y_test)"
      ],
      "metadata": {
        "colab": {
          "base_uri": "https://localhost:8080/"
        },
        "id": "z-8l4rZ8_Qcp",
        "outputId": "bd713b0c-eeb0-465e-8aa3-99027785862c"
      },
      "execution_count": 22,
      "outputs": [
        {
          "output_type": "stream",
          "name": "stdout",
          "text": [
            "94/94 [==============================] - 3s 31ms/step - loss: 0.3275 - accuracy: 0.8790\n"
          ]
        },
        {
          "output_type": "execute_result",
          "data": {
            "text/plain": [
              "[0.3275226950645447, 0.8790000081062317]"
            ]
          },
          "metadata": {},
          "execution_count": 22
        }
      ]
    },
    {
      "cell_type": "code",
      "source": [
        "test_predictions = model.predict(X_test_scaled)  \n",
        "test_pred_labels = np.argmax(test_predictions, axis = 1)"
      ],
      "metadata": {
        "id": "ZyT6qB14DY2n"
      },
      "execution_count": 23,
      "outputs": []
    },
    {
      "cell_type": "code",
      "source": [
        "CM = confusion_matrix(y_test, test_pred_labels)\n",
        "ax = plt.axes()\n",
        "class_names = ['buildings', 'forest', 'glacier', 'mountain', 'sea', 'street']\n",
        "sn.heatmap(CM, annot=True, \n",
        "           annot_kws={\"size\": 8}, \n",
        "           xticklabels=class_names, \n",
        "           yticklabels=class_names, ax = ax, cmap='Blues')\n",
        "ax.set_title('Confusion matrix')\n",
        "plt.show()"
      ],
      "metadata": {
        "colab": {
          "base_uri": "https://localhost:8080/",
          "height": 281
        },
        "id": "BV7K_0pVESEh",
        "outputId": "b19b1ddd-3954-40ec-b176-6e2ee1a7007e"
      },
      "execution_count": 24,
      "outputs": [
        {
          "output_type": "display_data",
          "data": {
            "text/plain": [
              "<Figure size 432x288 with 2 Axes>"
            ],
            "image/png": "[encoded data removed]"
          },
          "metadata": {
            "needs_background": "light"
          }
        }
      ]
    },
    {
      "cell_type": "markdown",
      "source": [
        "##5. Inception v3"
      ],
      "metadata": {
        "id": "XBdlB0ThoRI_"
      }
    },
    {
      "cell_type": "markdown",
      "source": [
        "###5.1. Build Model"
      ],
      "metadata": {
        "id": "XwuDgjo-oWDI"
      }
    },
    {
      "cell_type": "code",
      "source": [
        "inceptionv3 = InceptionV3(input_shape = (128,128,3) , weights='imagenet', include_top=False)"
      ],
      "metadata": {
        "colab": {
          "base_uri": "https://localhost:8080/"
        },
        "id": "L6N1XfaeFAdq",
        "outputId": "fa40f170-7d19-4fbe-838f-4cf8178240f2"
      },
      "execution_count": null,
      "outputs": [
        {
          "output_type": "stream",
          "name": "stdout",
          "text": [
            "Downloading data from https://storage.googleapis.com/tensorflow/keras-applications/inception_v3/inception_v3_weights_tf_dim_ordering_tf_kernels_notop.h5\n",
            "87916544/87910968 [==============================] - 0s 0us/step\n",
            "87924736/87910968 [==============================] - 0s 0us/step\n"
          ]
        }
      ]
    },
    {
      "cell_type": "code",
      "source": [
        "for layer in inceptionv3.layers:\n",
        "    layer.trainable = False"
      ],
      "metadata": {
        "id": "NT9hL0E1okzu"
      },
      "execution_count": null,
      "outputs": []
    },
    {
      "cell_type": "code",
      "source": [
        "h1 = Flatten()(inceptionv3.output)\n",
        "h2 = Dense(200, activation = 'relu')(h1)\n",
        "h3 = Dropout(0.2)(h2)\n",
        "h4 = Dense(200, activation = 'relu')(h3)\n",
        "prediction = Dense(6, activation='softmax')(h4)\n",
        "\n",
        "model = Model(inputs=inceptionv3.input, outputs=prediction)"
      ],
      "metadata": {
        "id": "BoHbVV2UpbR4"
      },
      "execution_count": 27,
      "outputs": []
    },
    {
      "cell_type": "code",
      "source": [
        "model.compile(loss=SparseCategoricalCrossentropy(), optimizer='adam', metrics=['accuracy'])"
      ],
      "metadata": {
        "id": "yT9ptDl1pvTW"
      },
      "execution_count": 29,
      "outputs": []
    },
    {
      "cell_type": "code",
      "source": [
        "cp = ModelCheckpoint('models/inceptionv3_transfer_learning', save_best_only=True)\n",
        "r = model.fit(X_train_scaled, y_train, epochs=10, validation_data=(X_val_scaled, y_val), callbacks = [cp])"
      ],
      "metadata": {
        "colab": {
          "base_uri": "https://localhost:8080/"
        },
        "id": "L4kvSawGqRHu",
        "outputId": "8c058779-86a4-45bd-cd53-b71ed0828e7d"
      },
      "execution_count": 30,
      "outputs": [
        {
          "output_type": "stream",
          "name": "stdout",
          "text": [
            "Epoch 1/10\n",
            "350/351 [============================>.] - ETA: 0s - loss: 0.7303 - accuracy: 0.7449INFO:tensorflow:Assets written to: models/inceptionv3_transfer_learning/assets\n",
            "351/351 [==============================] - 44s 114ms/step - loss: 0.7301 - accuracy: 0.7450 - val_loss: 0.5339 - val_accuracy: 0.8147\n",
            "Epoch 2/10\n",
            "351/351 [==============================] - ETA: 0s - loss: 0.5142 - accuracy: 0.8083INFO:tensorflow:Assets written to: models/inceptionv3_transfer_learning/assets\n",
            "351/351 [==============================] - 38s 108ms/step - loss: 0.5142 - accuracy: 0.8083 - val_loss: 0.5119 - val_accuracy: 0.8169\n",
            "Epoch 3/10\n",
            "351/351 [==============================] - ETA: 0s - loss: 0.4454 - accuracy: 0.8350INFO:tensorflow:Assets written to: models/inceptionv3_transfer_learning/assets\n",
            "351/351 [==============================] - 38s 108ms/step - loss: 0.4454 - accuracy: 0.8350 - val_loss: 0.4904 - val_accuracy: 0.8279\n",
            "Epoch 4/10\n",
            "351/351 [==============================] - ETA: 0s - loss: 0.4049 - accuracy: 0.8478INFO:tensorflow:Assets written to: models/inceptionv3_transfer_learning/assets\n",
            "351/351 [==============================] - 38s 108ms/step - loss: 0.4049 - accuracy: 0.8478 - val_loss: 0.4754 - val_accuracy: 0.8365\n",
            "Epoch 5/10\n",
            "351/351 [==============================] - ETA: 0s - loss: 0.3649 - accuracy: 0.8643INFO:tensorflow:Assets written to: models/inceptionv3_transfer_learning/assets\n",
            "351/351 [==============================] - 38s 108ms/step - loss: 0.3649 - accuracy: 0.8643 - val_loss: 0.4492 - val_accuracy: 0.8561\n",
            "Epoch 6/10\n",
            "351/351 [==============================] - 13s 38ms/step - loss: 0.3506 - accuracy: 0.8677 - val_loss: 0.4868 - val_accuracy: 0.8400\n",
            "Epoch 7/10\n",
            "351/351 [==============================] - 13s 38ms/step - loss: 0.3144 - accuracy: 0.8811 - val_loss: 0.4712 - val_accuracy: 0.8461\n",
            "Epoch 8/10\n",
            "351/351 [==============================] - 13s 38ms/step - loss: 0.3130 - accuracy: 0.8846 - val_loss: 0.4947 - val_accuracy: 0.8432\n",
            "Epoch 9/10\n",
            "351/351 [==============================] - 13s 37ms/step - loss: 0.2770 - accuracy: 0.8941 - val_loss: 0.4926 - val_accuracy: 0.8372\n",
            "Epoch 10/10\n",
            "351/351 [==============================] - 13s 37ms/step - loss: 0.2686 - accuracy: 0.9008 - val_loss: 0.5079 - val_accuracy: 0.8411\n"
          ]
        }
      ]
    },
    {
      "cell_type": "code",
      "source": [
        "# plot the loss\n",
        "plt.plot(r.history['loss'], label='train loss')\n",
        "plt.plot(r.history['val_loss'], label='val loss')\n",
        "plt.legend()\n",
        "plt.show()\n",
        "plt.savefig('LossVal_loss')\n",
        "\n",
        "# plot the accuracy\n",
        "plt.plot(r.history['accuracy'], label='train acc')\n",
        "plt.plot(r.history['val_accuracy'], label='val acc')\n",
        "plt.legend()\n",
        "plt.show()\n",
        "plt.savefig('AccVal_acc')"
      ],
      "metadata": {
        "colab": {
          "base_uri": "https://localhost:8080/",
          "height": 530
        },
        "id": "RpCg78k4qaDA",
        "outputId": "c8c17caf-9b11-440a-80d1-1e6d5290161b"
      },
      "execution_count": 31,
      "outputs": [
        {
          "output_type": "display_data",
          "data": {
            "text/plain": [
              "<Figure size 432x288 with 1 Axes>"
            ],
            "image/png": "[encoded data removed]"
          },
          "metadata": {
            "needs_background": "light"
          }
        },
        {
          "output_type": "display_data",
          "data": {
            "text/plain": [
              "<Figure size 432x288 with 1 Axes>"
            ],
            "image/png": "[encoded data removed]"
          },
          "metadata": {
            "needs_background": "light"
          }
        },
        {
          "output_type": "display_data",
          "data": {
            "text/plain": [
              "<Figure size 432x288 with 0 Axes>"
            ]
          },
          "metadata": {}
        }
      ]
    },
    {
      "cell_type": "markdown",
      "source": [
        "###5.2. Model Predictions"
      ],
      "metadata": {
        "id": "BYZLhqoKrYgX"
      }
    },
    {
      "cell_type": "code",
      "source": [
        "model = load_model('models/inceptionv3_transfer_learning')"
      ],
      "metadata": {
        "id": "JcZnbargrPSq"
      },
      "execution_count": 32,
      "outputs": []
    },
    {
      "cell_type": "code",
      "source": [
        "model.evaluate(X_test_scaled,y_test)"
      ],
      "metadata": {
        "colab": {
          "base_uri": "https://localhost:8080/"
        },
        "id": "Iq6BRQ8grdlL",
        "outputId": "13f043ca-dbb0-4d87-862c-7320568d3e4c"
      },
      "execution_count": 33,
      "outputs": [
        {
          "output_type": "stream",
          "name": "stdout",
          "text": [
            "94/94 [==============================] - 4s 32ms/step - loss: 0.4426 - accuracy: 0.8420\n"
          ]
        },
        {
          "output_type": "execute_result",
          "data": {
            "text/plain": [
              "[0.44255924224853516, 0.8420000076293945]"
            ]
          },
          "metadata": {},
          "execution_count": 33
        }
      ]
    },
    {
      "cell_type": "code",
      "source": [
        "test_predictions = model.predict(X_test_scaled)  \n",
        "test_pred_labels = np.argmax(test_predictions, axis = 1)"
      ],
      "metadata": {
        "id": "yRI3B23KroRp"
      },
      "execution_count": 34,
      "outputs": []
    },
    {
      "cell_type": "code",
      "source": [
        "CM = confusion_matrix(y_test, test_pred_labels)\n",
        "ax = plt.axes()\n",
        "class_names = ['buildings', 'forest', 'glacier', 'mountain', 'sea', 'street']\n",
        "sn.heatmap(CM, annot=True, \n",
        "           annot_kws={\"size\": 8}, \n",
        "           xticklabels=class_names, \n",
        "           yticklabels=class_names, ax = ax, cmap='Blues')\n",
        "ax.set_title('Confusion matrix')\n",
        "plt.show()"
      ],
      "metadata": {
        "colab": {
          "base_uri": "https://localhost:8080/",
          "height": 281
        },
        "id": "NMnrDvt8rw2O",
        "outputId": "eed357b6-d781-4669-9ebc-58987bec358c"
      },
      "execution_count": 35,
      "outputs": [
        {
          "output_type": "display_data",
          "data": {
            "text/plain": [
              "<Figure size 432x288 with 2 Axes>"
            ],
            "image/png": "[encoded data removed]"
          },
          "metadata": {
            "needs_background": "light"
          }
        }
      ]
    },
    {
      "cell_type": "markdown",
      "source": [
        "##6. ResNet 50"
      ],
      "metadata": {
        "id": "jo9bzY_xzeRk"
      }
    },
    {
      "cell_type": "markdown",
      "source": [
        "###6.1. Build Model"
      ],
      "metadata": {
        "id": "ixW5Xl0kzk1u"
      }
    },
    {
      "cell_type": "code",
      "source": [
        "resnet50 = ResNet50(input_shape = (128,128,3) , weights='imagenet', include_top=False)"
      ],
      "metadata": {
        "colab": {
          "base_uri": "https://localhost:8080/"
        },
        "id": "Vk9edFaer30K",
        "outputId": "6d818e4b-13bb-4241-fca8-3dff625bc825"
      },
      "execution_count": 15,
      "outputs": [
        {
          "output_type": "stream",
          "name": "stdout",
          "text": [
            "Downloading data from https://storage.googleapis.com/tensorflow/keras-applications/resnet/resnet50_weights_tf_dim_ordering_tf_kernels_notop.h5\n",
            "94773248/94765736 [==============================] - 0s 0us/step\n",
            "94781440/94765736 [==============================] - 0s 0us/step\n"
          ]
        }
      ]
    },
    {
      "cell_type": "code",
      "source": [
        "for layer in resnet50.layers:\n",
        "    layer.trainable = False"
      ],
      "metadata": {
        "id": "WZqxNtONz7DB"
      },
      "execution_count": 16,
      "outputs": []
    },
    {
      "cell_type": "code",
      "source": [
        "h1 = Flatten()(resnet50.output)\n",
        "h2 = Dense(200, activation = 'relu')(h1)\n",
        "h3 = Dense(200, activation = 'relu')(h2)\n",
        "h4 = Dense(200, activation = 'relu')(h3)\n",
        "prediction = Dense(6, activation='softmax')(h4)\n",
        "\n",
        "model = Model(inputs=resnet50.input, outputs=prediction)"
      ],
      "metadata": {
        "id": "WZe-goYo0AiQ"
      },
      "execution_count": 28,
      "outputs": []
    },
    {
      "cell_type": "code",
      "source": [
        "model.compile(loss=SparseCategoricalCrossentropy(), optimizer='adam', metrics=['accuracy'])"
      ],
      "metadata": {
        "id": "itKSnUtF0HNY"
      },
      "execution_count": 29,
      "outputs": []
    },
    {
      "cell_type": "code",
      "source": [
        "cp = ModelCheckpoint('models/resnet50_transfer_learning', save_best_only=True)\n",
        "r = model.fit(X_train_scaled, y_train, epochs=30, validation_data=(X_val_scaled, y_val), callbacks = [cp])"
      ],
      "metadata": {
        "colab": {
          "base_uri": "https://localhost:8080/"
        },
        "id": "D5wSBnE00Mvi",
        "outputId": "cef3949a-54e9-42c8-dac4-c118ea3f5da0"
      },
      "execution_count": 30,
      "outputs": [
        {
          "output_type": "stream",
          "name": "stdout",
          "text": [
            "Epoch 1/30\n",
            "351/351 [==============================] - ETA: 0s - loss: 1.2749 - accuracy: 0.4569INFO:tensorflow:Assets written to: models/resnet50_transfer_learning/assets\n",
            "351/351 [==============================] - 32s 81ms/step - loss: 1.2749 - accuracy: 0.4569 - val_loss: 1.1033 - val_accuracy: 0.5358\n",
            "Epoch 2/30\n",
            "349/351 [============================>.] - ETA: 0s - loss: 1.0424 - accuracy: 0.5687INFO:tensorflow:Assets written to: models/resnet50_transfer_learning/assets\n",
            "351/351 [==============================] - 27s 78ms/step - loss: 1.0438 - accuracy: 0.5683 - val_loss: 0.9974 - val_accuracy: 0.5825\n",
            "Epoch 3/30\n",
            "351/351 [==============================] - ETA: 0s - loss: 0.9502 - accuracy: 0.6112INFO:tensorflow:Assets written to: models/resnet50_transfer_learning/assets\n",
            "351/351 [==============================] - 28s 79ms/step - loss: 0.9502 - accuracy: 0.6112 - val_loss: 0.9256 - val_accuracy: 0.6306\n",
            "Epoch 4/30\n",
            "351/351 [==============================] - ETA: 0s - loss: 0.9241 - accuracy: 0.6288INFO:tensorflow:Assets written to: models/resnet50_transfer_learning/assets\n",
            "351/351 [==============================] - 28s 78ms/step - loss: 0.9241 - accuracy: 0.6288 - val_loss: 0.9158 - val_accuracy: 0.6352\n",
            "Epoch 5/30\n",
            "351/351 [==============================] - ETA: 0s - loss: 0.8668 - accuracy: 0.6545INFO:tensorflow:Assets written to: models/resnet50_transfer_learning/assets\n",
            "351/351 [==============================] - 28s 79ms/step - loss: 0.8668 - accuracy: 0.6545 - val_loss: 0.8716 - val_accuracy: 0.6708\n",
            "Epoch 6/30\n",
            "351/351 [==============================] - 12s 34ms/step - loss: 0.8831 - accuracy: 0.6432 - val_loss: 0.9102 - val_accuracy: 0.6502\n",
            "Epoch 7/30\n",
            "351/351 [==============================] - ETA: 0s - loss: 0.8441 - accuracy: 0.6664INFO:tensorflow:Assets written to: models/resnet50_transfer_learning/assets\n",
            "351/351 [==============================] - 27s 78ms/step - loss: 0.8441 - accuracy: 0.6664 - val_loss: 0.8473 - val_accuracy: 0.6808\n",
            "Epoch 8/30\n",
            "351/351 [==============================] - 12s 34ms/step - loss: 0.8175 - accuracy: 0.6751 - val_loss: 0.9904 - val_accuracy: 0.6213\n",
            "Epoch 9/30\n",
            "349/351 [============================>.] - ETA: 0s - loss: 0.7981 - accuracy: 0.6782INFO:tensorflow:Assets written to: models/resnet50_transfer_learning/assets\n",
            "351/351 [==============================] - 28s 79ms/step - loss: 0.7976 - accuracy: 0.6785 - val_loss: 0.8369 - val_accuracy: 0.6833\n",
            "Epoch 10/30\n",
            "351/351 [==============================] - 12s 34ms/step - loss: 0.7804 - accuracy: 0.6924 - val_loss: 0.9133 - val_accuracy: 0.6323\n",
            "Epoch 11/30\n",
            "351/351 [==============================] - 12s 34ms/step - loss: 0.7690 - accuracy: 0.6977 - val_loss: 0.9964 - val_accuracy: 0.5843\n",
            "Epoch 12/30\n",
            "351/351 [==============================] - 12s 34ms/step - loss: 0.7601 - accuracy: 0.7013 - val_loss: 0.8601 - val_accuracy: 0.6733\n",
            "Epoch 13/30\n",
            "351/351 [==============================] - ETA: 0s - loss: 0.7685 - accuracy: 0.6985INFO:tensorflow:Assets written to: models/resnet50_transfer_learning/assets\n",
            "351/351 [==============================] - 28s 79ms/step - loss: 0.7685 - accuracy: 0.6985 - val_loss: 0.8103 - val_accuracy: 0.6975\n",
            "Epoch 14/30\n",
            "351/351 [==============================] - ETA: 0s - loss: 0.7444 - accuracy: 0.7063INFO:tensorflow:Assets written to: models/resnet50_transfer_learning/assets\n",
            "351/351 [==============================] - 27s 78ms/step - loss: 0.7444 - accuracy: 0.7063 - val_loss: 0.7980 - val_accuracy: 0.6943\n",
            "Epoch 15/30\n",
            "351/351 [==============================] - 12s 34ms/step - loss: 0.7532 - accuracy: 0.6981 - val_loss: 0.8264 - val_accuracy: 0.6929\n",
            "Epoch 16/30\n",
            "351/351 [==============================] - 12s 34ms/step - loss: 0.7228 - accuracy: 0.7197 - val_loss: 0.8240 - val_accuracy: 0.6983\n",
            "Epoch 17/30\n",
            "351/351 [==============================] - 12s 34ms/step - loss: 0.7304 - accuracy: 0.7138 - val_loss: 0.7987 - val_accuracy: 0.6972\n",
            "Epoch 18/30\n",
            "351/351 [==============================] - 12s 34ms/step - loss: 0.7133 - accuracy: 0.7225 - val_loss: 0.8206 - val_accuracy: 0.6861\n",
            "Epoch 19/30\n",
            "351/351 [==============================] - 12s 34ms/step - loss: 0.7081 - accuracy: 0.7217 - val_loss: 0.8044 - val_accuracy: 0.6954\n",
            "Epoch 20/30\n",
            "351/351 [==============================] - 12s 34ms/step - loss: 0.7007 - accuracy: 0.7284 - val_loss: 0.8602 - val_accuracy: 0.6836\n",
            "Epoch 21/30\n",
            "351/351 [==============================] - 12s 34ms/step - loss: 0.6826 - accuracy: 0.7318 - val_loss: 0.8309 - val_accuracy: 0.6893\n",
            "Epoch 22/30\n",
            "351/351 [==============================] - 12s 34ms/step - loss: 0.6972 - accuracy: 0.7262 - val_loss: 0.8448 - val_accuracy: 0.6790\n",
            "Epoch 23/30\n",
            "351/351 [==============================] - 12s 34ms/step - loss: 0.6832 - accuracy: 0.7315 - val_loss: 0.9076 - val_accuracy: 0.6534\n",
            "Epoch 24/30\n",
            "351/351 [==============================] - 12s 34ms/step - loss: 0.6596 - accuracy: 0.7424 - val_loss: 0.9355 - val_accuracy: 0.6516\n",
            "Epoch 25/30\n",
            "351/351 [==============================] - 12s 34ms/step - loss: 0.6491 - accuracy: 0.7453 - val_loss: 0.8490 - val_accuracy: 0.6936\n",
            "Epoch 26/30\n",
            "351/351 [==============================] - 12s 34ms/step - loss: 0.6586 - accuracy: 0.7479 - val_loss: 0.8125 - val_accuracy: 0.7025\n",
            "Epoch 27/30\n",
            "351/351 [==============================] - 12s 34ms/step - loss: 0.6381 - accuracy: 0.7514 - val_loss: 0.8215 - val_accuracy: 0.7146\n",
            "Epoch 28/30\n",
            "351/351 [==============================] - 12s 34ms/step - loss: 0.6421 - accuracy: 0.7521 - val_loss: 0.8128 - val_accuracy: 0.7086\n",
            "Epoch 29/30\n",
            "351/351 [==============================] - ETA: 0s - loss: 0.6375 - accuracy: 0.7515INFO:tensorflow:Assets written to: models/resnet50_transfer_learning/assets\n",
            "351/351 [==============================] - 28s 79ms/step - loss: 0.6375 - accuracy: 0.7515 - val_loss: 0.7924 - val_accuracy: 0.7157\n",
            "Epoch 30/30\n",
            "351/351 [==============================] - 12s 34ms/step - loss: 0.6366 - accuracy: 0.7506 - val_loss: 0.8857 - val_accuracy: 0.6872\n"
          ]
        }
      ]
    },
    {
      "cell_type": "code",
      "source": [
        "# plot the loss\n",
        "plt.plot(r.history['loss'], label='train loss')\n",
        "plt.plot(r.history['val_loss'], label='val loss')\n",
        "plt.legend()\n",
        "plt.show()\n",
        "plt.savefig('LossVal_loss')\n",
        "\n",
        "# plot the accuracy\n",
        "plt.plot(r.history['accuracy'], label='train acc')\n",
        "plt.plot(r.history['val_accuracy'], label='val acc')\n",
        "plt.legend()\n",
        "plt.show()\n",
        "plt.savefig('AccVal_acc')"
      ],
      "metadata": {
        "colab": {
          "base_uri": "https://localhost:8080/",
          "height": 532
        },
        "id": "M39vxvOn0R-c",
        "outputId": "ecaeb41c-980f-4870-bc4a-98b20443edb0"
      },
      "execution_count": 20,
      "outputs": [
        {
          "output_type": "display_data",
          "data": {
            "text/plain": [
              "<Figure size 432x288 with 1 Axes>"
            ],
            "image/png": "[encoded data removed]"
          },
          "metadata": {
            "needs_background": "light"
          }
        },
        {
          "output_type": "display_data",
          "data": {
            "text/plain": [
              "<Figure size 432x288 with 1 Axes>"
            ],
            "image/png": "[encoded data removed]"
          },
          "metadata": {
            "needs_background": "light"
          }
        },
        {
          "output_type": "display_data",
          "data": {
            "text/plain": [
              "<Figure size 432x288 with 0 Axes>"
            ]
          },
          "metadata": {}
        }
      ]
    },
    {
      "cell_type": "markdown",
      "source": [
        "###6.2. Model Predictions"
      ],
      "metadata": {
        "id": "RYb0IsKd0XfS"
      }
    },
    {
      "cell_type": "code",
      "source": [
        "model = load_model('models/resnet50_transfer_learning')"
      ],
      "metadata": {
        "id": "UCq7TT8d0bcD"
      },
      "execution_count": 21,
      "outputs": []
    },
    {
      "cell_type": "code",
      "source": [
        "model.evaluate(X_test_scaled,y_test)"
      ],
      "metadata": {
        "colab": {
          "base_uri": "https://localhost:8080/"
        },
        "id": "lbaVZMIy0fni",
        "outputId": "1420c649-419f-4278-8c2a-aeaa217baaed"
      },
      "execution_count": 22,
      "outputs": [
        {
          "output_type": "stream",
          "name": "stdout",
          "text": [
            "94/94 [==============================] - 4s 30ms/step - loss: 0.9400 - accuracy: 0.6280\n"
          ]
        },
        {
          "output_type": "execute_result",
          "data": {
            "text/plain": [
              "[0.940016508102417, 0.628000020980835]"
            ]
          },
          "metadata": {},
          "execution_count": 22
        }
      ]
    },
    {
      "cell_type": "code",
      "source": [
        "test_predictions = model.predict(X_test_scaled)  \n",
        "test_pred_labels = np.argmax(test_predictions, axis = 1)"
      ],
      "metadata": {
        "id": "pGj8PTRs0jj_"
      },
      "execution_count": 23,
      "outputs": []
    },
    {
      "cell_type": "code",
      "source": [
        "CM = confusion_matrix(y_test, test_pred_labels)\n",
        "ax = plt.axes()\n",
        "class_names = ['buildings', 'forest', 'glacier', 'mountain', 'sea', 'street']\n",
        "sn.heatmap(CM, annot=True, \n",
        "           annot_kws={\"size\": 8}, \n",
        "           xticklabels=class_names, \n",
        "           yticklabels=class_names, ax = ax, cmap='Blues')\n",
        "ax.set_title('Confusion matrix')\n",
        "plt.show()"
      ],
      "metadata": {
        "colab": {
          "base_uri": "https://localhost:8080/",
          "height": 281
        },
        "id": "59_MnZCX0nl5",
        "outputId": "c7c44141-ccb4-4dfa-ee08-40f7edbb1e49"
      },
      "execution_count": 24,
      "outputs": [
        {
          "output_type": "display_data",
          "data": {
            "text/plain": [
              "<Figure size 432x288 with 2 Axes>"
            ],
            "image/png": "[encoded data removed]"
          },
          "metadata": {
            "needs_background": "light"
          }
        }
      ]
    },
    {
      "cell_type": "code",
      "source": [
        ""
      ],
      "metadata": {
        "id": "pDgpEqPf18ld"
      },
      "execution_count": null,
      "outputs": []
    }
  ]
}