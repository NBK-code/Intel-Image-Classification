{
  "nbformat": 4,
  "nbformat_minor": 0,
  "metadata": {
    "colab": {
      "name": "Intel_Image_Classification.ipynb",
      "provenance": [],
      "collapsed_sections": [],
      "machine_shape": "hm",
      "authorship_tag": "ABX9TyNaNpPw0ufJIPT5g/FPI7ZE",
      "include_colab_link": true
    },
    "kernelspec": {
      "name": "python3",
      "display_name": "Python 3"
    },
    "language_info": {
      "name": "python"
    },
    "accelerator": "GPU"
  },
  "cells": [
    {
      "cell_type": "markdown",
      "metadata": {
        "id": "view-in-github",
        "colab_type": "text"
      },
      "source": [
        "<a href=\"https://colab.research.google.com/github/NBK-code/Intel_Image_Classification/blob/main/Intel_Image_Classification.ipynb\" target=\"_parent\"><img src=\"https://colab.research.google.com/assets/colab-badge.svg\" alt=\"Open In Colab\"/></a>"
      ]
    },
    {
      "cell_type": "markdown",
      "source": [
        "##Import Necessary Libraries\n"
      ],
      "metadata": {
        "id": "jvr69ONV3QHv"
      }
    },
    {
      "cell_type": "code",
      "source": [
        "import pathlib\n",
        "import cv2\n",
        "import numpy as np\n",
        "import matplotlib.pylab as plt\n",
        "from tensorflow import keras\n",
        "import tensorflow as tf\n",
        "from tensorflow.keras.applications.vgg16 import VGG16\n",
        "from tensorflow.keras.models import Model\n",
        "from tensorflow.keras.layers import Input, Dense, Flatten\n",
        "from tensorflow.keras.models import Sequential\n",
        "from tensorflow.keras.losses import SparseCategoricalCrossentropy\n",
        "from tensorflow.keras.callbacks import ModelCheckpoint\n",
        "from tensorflow.keras.models import load_model\n",
        "from sklearn.metrics import confusion_matrix\n",
        "import seaborn as sn"
      ],
      "metadata": {
        "id": "EM9xGy-ms7fO"
      },
      "execution_count": 58,
      "outputs": []
    },
    {
      "cell_type": "markdown",
      "source": [
        "##Download Intel Dataset"
      ],
      "metadata": {
        "id": "J-fB_7Qm3XT0"
      }
    },
    {
      "cell_type": "code",
      "execution_count": 2,
      "metadata": {
        "colab": {
          "base_uri": "https://localhost:8080/"
        },
        "id": "CHmsgmZbn0A5",
        "outputId": "07ef3410-ef1d-4e08-af4c-ed88641b3a2d"
      },
      "outputs": [
        {
          "output_type": "stream",
          "name": "stdout",
          "text": [
            "Done!\n"
          ]
        }
      ],
      "source": [
        "from zipfile import ZipFile\n",
        "file_name = 'Intel.zip'\n",
        "\n",
        "with ZipFile(file_name,'r') as zip:\n",
        "  zip.extractall()\n",
        "  print('Done!')"
      ]
    },
    {
      "cell_type": "markdown",
      "source": [
        "##Construct Train and Test Data"
      ],
      "metadata": {
        "id": "uSUJCA4b3gWv"
      }
    },
    {
      "cell_type": "code",
      "source": [
        "data_dir_train = pathlib.Path('/content/seg_train/seg_train')\n",
        "data_dir_test = pathlib.Path('/content/seg_test/seg_test')\n",
        "data_dir_pred = pathlib.Path('/content/seg_pred')"
      ],
      "metadata": {
        "id": "6xeCqvrIwaKs"
      },
      "execution_count": 3,
      "outputs": []
    },
    {
      "cell_type": "code",
      "source": [
        "print('The number of train images:', len(list(data_dir_train.glob('*/*.jpg'))))\n",
        "print('The number of test images:', len(list(data_dir_test.glob('*/*.jpg'))))\n",
        "print('The number of pred images:', len(list(data_dir_pred.glob('*/*.jpg'))))"
      ],
      "metadata": {
        "colab": {
          "base_uri": "https://localhost:8080/"
        },
        "id": "z7nUPw_fvHPy",
        "outputId": "079bb60f-62e1-48b0-d7ca-5a8342915db7"
      },
      "execution_count": 4,
      "outputs": [
        {
          "output_type": "stream",
          "name": "stdout",
          "text": [
            "The number of train images: 14034\n",
            "The number of test images: 3000\n",
            "The number of pred images: 7301\n"
          ]
        }
      ]
    },
    {
      "cell_type": "code",
      "source": [
        "Intel_train_images_dict = {\n",
        "    'buildings': list(data_dir_train.glob('buildings/*')),\n",
        "    'forest': list(data_dir_train.glob('forest/*')),\n",
        "    'glacier': list(data_dir_train.glob('glacier/*')),\n",
        "    'mountain': list(data_dir_train.glob('mountain/*')),\n",
        "    'sea': list(data_dir_train.glob('sea/*')),\n",
        "    'street': list(data_dir_train.glob('street/*'))\n",
        "}"
      ],
      "metadata": {
        "id": "mO4IIIzowTW3"
      },
      "execution_count": 5,
      "outputs": []
    },
    {
      "cell_type": "code",
      "source": [
        "Intel_train_images_len_dict = {\n",
        "    'buildings': len(list(data_dir_train.glob('buildings/*'))),\n",
        "    'forest': len(list(data_dir_train.glob('forest/*'))),\n",
        "    'glacier': len(list(data_dir_train.glob('glacier/*'))),\n",
        "    'mountain': len(list(data_dir_train.glob('mountain/*'))),\n",
        "    'sea': len(list(data_dir_train.glob('sea/*'))),\n",
        "    'street': len(list(data_dir_train.glob('street/*')))\n",
        "}\n",
        "\n",
        "Intel_train_images_len_dict"
      ],
      "metadata": {
        "colab": {
          "base_uri": "https://localhost:8080/"
        },
        "id": "DRqxihwZ15uf",
        "outputId": "64ad1f87-6771-4005-fe2d-7d02956d4afe"
      },
      "execution_count": 6,
      "outputs": [
        {
          "output_type": "execute_result",
          "data": {
            "text/plain": [
              "{'buildings': 2191,\n",
              " 'forest': 2271,\n",
              " 'glacier': 2404,\n",
              " 'mountain': 2512,\n",
              " 'sea': 2274,\n",
              " 'street': 2382}"
            ]
          },
          "metadata": {},
          "execution_count": 6
        }
      ]
    },
    {
      "cell_type": "markdown",
      "source": [
        "It is a balanced dataset."
      ],
      "metadata": {
        "id": "aznAKJXM2RhL"
      }
    },
    {
      "cell_type": "code",
      "source": [
        "Intel_test_images_dict = {\n",
        "    'buildings': list(data_dir_test.glob('buildings/*')),\n",
        "    'forest': list(data_dir_test.glob('forest/*')),\n",
        "    'glacier': list(data_dir_test.glob('glacier/*')),\n",
        "    'mountain': list(data_dir_test.glob('mountain/*')),\n",
        "    'sea': list(data_dir_test.glob('sea/*')),\n",
        "    'street': list(data_dir_test.glob('street/*'))\n",
        "}"
      ],
      "metadata": {
        "id": "HsA4Q_QGyWST"
      },
      "execution_count": 7,
      "outputs": []
    },
    {
      "cell_type": "code",
      "source": [
        "Intel_labels_dict = {\n",
        "    'buildings': 0,\n",
        "    'forest': 1,\n",
        "    'glacier': 2,\n",
        "    'mountain': 3,\n",
        "    'sea': 4,\n",
        "    'street': 5\n",
        "}"
      ],
      "metadata": {
        "id": "iA_GoAp1ynGr"
      },
      "execution_count": 8,
      "outputs": []
    },
    {
      "cell_type": "code",
      "source": [
        "X_train, y_train = [], []\n",
        "\n",
        "for category, images in Intel_train_images_dict.items():\n",
        "    for image in images:\n",
        "        img = cv2.imread(str(image))\n",
        "        resized_img = cv2.resize(img,(128,128))\n",
        "        X_train.append(resized_img)\n",
        "        y_train.append(Intel_labels_dict[category])"
      ],
      "metadata": {
        "id": "tzM5TDOOzFgW"
      },
      "execution_count": 9,
      "outputs": []
    },
    {
      "cell_type": "code",
      "source": [
        "X_test, y_test = [], []\n",
        "\n",
        "for category, images in Intel_test_images_dict.items():\n",
        "    for image in images:\n",
        "        img = cv2.imread(str(image))\n",
        "        resized_img = cv2.resize(img,(128,128))\n",
        "        X_test.append(resized_img)\n",
        "        y_test.append(Intel_labels_dict[category])"
      ],
      "metadata": {
        "id": "1_HdKhvu0wsf"
      },
      "execution_count": 10,
      "outputs": []
    },
    {
      "cell_type": "code",
      "source": [
        "from sklearn.model_selection import train_test_split\n",
        "X_train, X_val, y_train, y_val = train_test_split(X_train, y_train, test_size = 0.2, random_state=0)"
      ],
      "metadata": {
        "id": "EsA-ZyJ-BZjh"
      },
      "execution_count": 11,
      "outputs": []
    },
    {
      "cell_type": "code",
      "source": [
        "X_train_scaled = np.array(X_train) / 255.0\n",
        "X_val_scaled = np.array(X_val) / 255.0\n",
        "X_test_scaled = np.array(X_test) / 255.0"
      ],
      "metadata": {
        "id": "sKQG_9qc1ntW"
      },
      "execution_count": 12,
      "outputs": []
    },
    {
      "cell_type": "code",
      "source": [
        "y_train = np.array(y_train)\n",
        "y_val = np.array(y_val)\n",
        "y_test = np.array(y_test)"
      ],
      "metadata": {
        "id": "fGhc6yas94jj"
      },
      "execution_count": 13,
      "outputs": []
    },
    {
      "cell_type": "code",
      "source": [
        "print('Shape of X_train_scaled:', X_train_scaled.shape)\n",
        "print('Shape of X_val_scaled:', X_val_scaled.shape)\n",
        "print('Shape of X_test_scaled:', X_test_scaled.shape)"
      ],
      "metadata": {
        "colab": {
          "base_uri": "https://localhost:8080/"
        },
        "id": "ZxR6J35M27Om",
        "outputId": "543a5c29-d9ca-46ed-e9b1-9c4a660effff"
      },
      "execution_count": 14,
      "outputs": [
        {
          "output_type": "stream",
          "name": "stdout",
          "text": [
            "Shape of X_train_scaled: (11227, 128, 128, 3)\n",
            "Shape of X_val_scaled: (2807, 128, 128, 3)\n",
            "Shape of X_test_scaled: (3000, 128, 128, 3)\n"
          ]
        }
      ]
    },
    {
      "cell_type": "markdown",
      "source": [
        "##Build Model"
      ],
      "metadata": {
        "id": "uHgU--km4AA3"
      }
    },
    {
      "cell_type": "code",
      "source": [
        "vgg16 = VGG16(input_shape = (128,128,3) , weights='imagenet', include_top=False)"
      ],
      "metadata": {
        "id": "Idl5EtKD3G0k",
        "colab": {
          "base_uri": "https://localhost:8080/"
        },
        "outputId": "87299fe7-d7d8-4fb7-f10d-48d8e93b3d2f"
      },
      "execution_count": 15,
      "outputs": [
        {
          "output_type": "stream",
          "name": "stdout",
          "text": [
            "Downloading data from https://storage.googleapis.com/tensorflow/keras-applications/vgg16/vgg16_weights_tf_dim_ordering_tf_kernels_notop.h5\n",
            "58892288/58889256 [==============================] - 2s 0us/step\n",
            "58900480/58889256 [==============================] - 2s 0us/step\n"
          ]
        }
      ]
    },
    {
      "cell_type": "code",
      "source": [
        "for layer in vgg16.layers:\n",
        "    layer.trainable = False"
      ],
      "metadata": {
        "id": "iCTBRcYc4aIS"
      },
      "execution_count": 16,
      "outputs": []
    },
    {
      "cell_type": "code",
      "source": [
        "h1 = Flatten()(vgg16.output)\n",
        "h2 = Dense(200, activation = 'relu')(h1)\n",
        "h3 = Dense(200, activation = 'relu')(h2)\n",
        "prediction = Dense(6, activation='softmax')(h3)\n",
        "\n",
        "model = Model(inputs=vgg16.input, outputs=prediction)"
      ],
      "metadata": {
        "id": "0D-IMBMk4cqQ"
      },
      "execution_count": 53,
      "outputs": []
    },
    {
      "cell_type": "code",
      "source": [
        "model.summary()"
      ],
      "metadata": {
        "colab": {
          "base_uri": "https://localhost:8080/"
        },
        "id": "OsbFuBWg5I52",
        "outputId": "89b12d7b-267d-4a0a-b301-8eb2c2e45f1f"
      },
      "execution_count": 54,
      "outputs": [
        {
          "output_type": "stream",
          "name": "stdout",
          "text": [
            "Model: \"model_5\"\n",
            "_________________________________________________________________\n",
            " Layer (type)                Output Shape              Param #   \n",
            "=================================================================\n",
            " input_1 (InputLayer)        [(None, 128, 128, 3)]     0         \n",
            "                                                                 \n",
            " block1_conv1 (Conv2D)       (None, 128, 128, 64)      1792      \n",
            "                                                                 \n",
            " block1_conv2 (Conv2D)       (None, 128, 128, 64)      36928     \n",
            "                                                                 \n",
            " block1_pool (MaxPooling2D)  (None, 64, 64, 64)        0         \n",
            "                                                                 \n",
            " block2_conv1 (Conv2D)       (None, 64, 64, 128)       73856     \n",
            "                                                                 \n",
            " block2_conv2 (Conv2D)       (None, 64, 64, 128)       147584    \n",
            "                                                                 \n",
            " block2_pool (MaxPooling2D)  (None, 32, 32, 128)       0         \n",
            "                                                                 \n",
            " block3_conv1 (Conv2D)       (None, 32, 32, 256)       295168    \n",
            "                                                                 \n",
            " block3_conv2 (Conv2D)       (None, 32, 32, 256)       590080    \n",
            "                                                                 \n",
            " block3_conv3 (Conv2D)       (None, 32, 32, 256)       590080    \n",
            "                                                                 \n",
            " block3_pool (MaxPooling2D)  (None, 16, 16, 256)       0         \n",
            "                                                                 \n",
            " block4_conv1 (Conv2D)       (None, 16, 16, 512)       1180160   \n",
            "                                                                 \n",
            " block4_conv2 (Conv2D)       (None, 16, 16, 512)       2359808   \n",
            "                                                                 \n",
            " block4_conv3 (Conv2D)       (None, 16, 16, 512)       2359808   \n",
            "                                                                 \n",
            " block4_pool (MaxPooling2D)  (None, 8, 8, 512)         0         \n",
            "                                                                 \n",
            " block5_conv1 (Conv2D)       (None, 8, 8, 512)         2359808   \n",
            "                                                                 \n",
            " block5_conv2 (Conv2D)       (None, 8, 8, 512)         2359808   \n",
            "                                                                 \n",
            " block5_conv3 (Conv2D)       (None, 8, 8, 512)         2359808   \n",
            "                                                                 \n",
            " block5_pool (MaxPooling2D)  (None, 4, 4, 512)         0         \n",
            "                                                                 \n",
            " flatten_5 (Flatten)         (None, 8192)              0         \n",
            "                                                                 \n",
            " dense_11 (Dense)            (None, 200)               1638600   \n",
            "                                                                 \n",
            " dense_12 (Dense)            (None, 200)               40200     \n",
            "                                                                 \n",
            " dense_13 (Dense)            (None, 6)                 1206      \n",
            "                                                                 \n",
            "=================================================================\n",
            "Total params: 16,394,694\n",
            "Trainable params: 1,680,006\n",
            "Non-trainable params: 14,714,688\n",
            "_________________________________________________________________\n"
          ]
        }
      ]
    },
    {
      "cell_type": "code",
      "source": [
        "model.compile(loss=SparseCategoricalCrossentropy(), optimizer='adam', metrics=['accuracy'])"
      ],
      "metadata": {
        "id": "GcZIZFah5LFl"
      },
      "execution_count": 55,
      "outputs": []
    },
    {
      "cell_type": "code",
      "source": [
        "cp = ModelCheckpoint('models/VGG_transfer_learning', save_best_only=True)\n",
        "r = model.fit(X_train_scaled, y_train, epochs=10, validation_data=(X_val_scaled, y_val), callbacks = [cp])"
      ],
      "metadata": {
        "colab": {
          "base_uri": "https://localhost:8080/"
        },
        "id": "iJFpXixj5yT9",
        "outputId": "d5b25e8a-e3dd-487b-eb5f-33140432c346"
      },
      "execution_count": 56,
      "outputs": [
        {
          "output_type": "stream",
          "name": "stdout",
          "text": [
            "Epoch 1/10\n",
            "351/351 [==============================] - ETA: 0s - loss: 0.4506 - accuracy: 0.8350INFO:tensorflow:Assets written to: models/VGG_transfer_learning/assets\n",
            "351/351 [==============================] - 16s 43ms/step - loss: 0.4506 - accuracy: 0.8350 - val_loss: 0.3285 - val_accuracy: 0.8849\n",
            "Epoch 2/10\n",
            "351/351 [==============================] - ETA: 0s - loss: 0.2932 - accuracy: 0.8927INFO:tensorflow:Assets written to: models/VGG_transfer_learning/assets\n",
            "351/351 [==============================] - 14s 40ms/step - loss: 0.2932 - accuracy: 0.8927 - val_loss: 0.3181 - val_accuracy: 0.8921\n",
            "Epoch 3/10\n",
            "351/351 [==============================] - 12s 34ms/step - loss: 0.2243 - accuracy: 0.9165 - val_loss: 0.3566 - val_accuracy: 0.8782\n",
            "Epoch 4/10\n",
            "351/351 [==============================] - 12s 35ms/step - loss: 0.1817 - accuracy: 0.9338 - val_loss: 0.3551 - val_accuracy: 0.8871\n",
            "Epoch 5/10\n",
            "351/351 [==============================] - 12s 35ms/step - loss: 0.1575 - accuracy: 0.9403 - val_loss: 0.3725 - val_accuracy: 0.8782\n",
            "Epoch 6/10\n",
            "351/351 [==============================] - 12s 35ms/step - loss: 0.1240 - accuracy: 0.9534 - val_loss: 0.3990 - val_accuracy: 0.8871\n",
            "Epoch 7/10\n",
            "351/351 [==============================] - 12s 35ms/step - loss: 0.1039 - accuracy: 0.9623 - val_loss: 0.3883 - val_accuracy: 0.8810\n",
            "Epoch 8/10\n",
            "351/351 [==============================] - 12s 34ms/step - loss: 0.0921 - accuracy: 0.9653 - val_loss: 0.5728 - val_accuracy: 0.8603\n",
            "Epoch 9/10\n",
            "351/351 [==============================] - 12s 34ms/step - loss: 0.0932 - accuracy: 0.9646 - val_loss: 0.4785 - val_accuracy: 0.8764\n",
            "Epoch 10/10\n",
            "351/351 [==============================] - 12s 35ms/step - loss: 0.0542 - accuracy: 0.9817 - val_loss: 0.5447 - val_accuracy: 0.8828\n"
          ]
        }
      ]
    },
    {
      "cell_type": "code",
      "source": [
        "# plot the loss\n",
        "plt.plot(r.history['loss'], label='train loss')\n",
        "plt.plot(r.history['val_loss'], label='val loss')\n",
        "plt.legend()\n",
        "plt.show()\n",
        "plt.savefig('LossVal_loss')\n",
        "\n",
        "# plot the accuracy\n",
        "plt.plot(r.history['accuracy'], label='train acc')\n",
        "plt.plot(r.history['val_accuracy'], label='val acc')\n",
        "plt.legend()\n",
        "plt.show()\n",
        "plt.savefig('AccVal_acc')"
      ],
      "metadata": {
        "colab": {
          "base_uri": "https://localhost:8080/",
          "height": 530
        },
        "id": "b7lFvFVR58yU",
        "outputId": "667eb0cf-d632-4250-9330-cd60b41fd3c6"
      },
      "execution_count": 57,
      "outputs": [
        {
          "output_type": "display_data",
          "data": {
            "text/plain": [
              "<Figure size 432x288 with 1 Axes>"
            ],
            "image/png": "[encoded data removed]"
          },
          "metadata": {
            "needs_background": "light"
          }
        },
        {
          "output_type": "display_data",
          "data": {
            "text/plain": [
              "<Figure size 432x288 with 1 Axes>"
            ],
            "image/png": "[encoded data removed]"
          },
          "metadata": {
            "needs_background": "light"
          }
        },
        {
          "output_type": "display_data",
          "data": {
            "text/plain": [
              "<Figure size 432x288 with 0 Axes>"
            ]
          },
          "metadata": {}
        }
      ]
    },
    {
      "cell_type": "markdown",
      "source": [
        "##Model Predictions"
      ],
      "metadata": {
        "id": "3oCDTNk1AhLe"
      }
    },
    {
      "cell_type": "code",
      "source": [
        "model = load_model('models/VGG_transfer_learning')"
      ],
      "metadata": {
        "id": "x2X-Hpj1IPd7"
      },
      "execution_count": 59,
      "outputs": []
    },
    {
      "cell_type": "code",
      "source": [
        "model.evaluate(X_test_scaled,y_test)"
      ],
      "metadata": {
        "colab": {
          "base_uri": "https://localhost:8080/"
        },
        "id": "z-8l4rZ8_Qcp",
        "outputId": "db7eed55-262f-4fd1-9b9e-c7399615d7f6"
      },
      "execution_count": 61,
      "outputs": [
        {
          "output_type": "stream",
          "name": "stdout",
          "text": [
            "94/94 [==============================] - 3s 28ms/step - loss: 0.3206 - accuracy: 0.8833\n"
          ]
        },
        {
          "output_type": "execute_result",
          "data": {
            "text/plain": [
              "[0.32061564922332764, 0.8833333253860474]"
            ]
          },
          "metadata": {},
          "execution_count": 61
        }
      ]
    },
    {
      "cell_type": "code",
      "source": [
        "test_predictions = model.predict(X_test_scaled)  \n",
        "test_pred_labels = np.argmax(test_predictions, axis = 1)"
      ],
      "metadata": {
        "id": "ZyT6qB14DY2n"
      },
      "execution_count": 62,
      "outputs": []
    },
    {
      "cell_type": "code",
      "source": [
        "CM = confusion_matrix(y_test, test_pred_labels)\n",
        "ax = plt.axes()\n",
        "class_names = ['buildings', 'forest', 'glacier', 'mountain', 'sea', 'street']\n",
        "sn.heatmap(CM, annot=True, \n",
        "           annot_kws={\"size\": 8}, \n",
        "           xticklabels=class_names, \n",
        "           yticklabels=class_names, ax = ax, cmap='Blues')\n",
        "ax.set_title('Confusion matrix')\n",
        "plt.show()"
      ],
      "metadata": {
        "colab": {
          "base_uri": "https://localhost:8080/",
          "height": 281
        },
        "id": "BV7K_0pVESEh",
        "outputId": "e50d52f2-3f92-4c90-a2f8-14ecc562cc86"
      },
      "execution_count": 63,
      "outputs": [
        {
          "output_type": "display_data",
          "data": {
            "text/plain": [
              "<Figure size 432x288 with 2 Axes>"
            ],
            "image/png": "[encoded data removed]"
          },
          "metadata": {
            "needs_background": "light"
          }
        }
      ]
    },
    {
      "cell_type": "code",
      "source": [
        ""
      ],
      "metadata": {
        "id": "L6N1XfaeFAdq"
      },
      "execution_count": null,
      "outputs": []
    }
  ]
}