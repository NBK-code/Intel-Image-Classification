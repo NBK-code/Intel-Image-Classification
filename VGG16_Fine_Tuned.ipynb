{
  "nbformat": 4,
  "nbformat_minor": 0,
  "metadata": {
    "colab": {
      "name": "VGG16_Fine_Tuned.ipynb",
      "provenance": [],
      "collapsed_sections": [],
      "machine_shape": "hm",
      "authorship_tag": "ABX9TyOppW1fbD1bZa+v/Jsbgp73",
      "include_colab_link": true
    },
    "kernelspec": {
      "name": "python3",
      "display_name": "Python 3"
    },
    "language_info": {
      "name": "python"
    },
    "accelerator": "GPU"
  },
  "cells": [
    {
      "cell_type": "markdown",
      "metadata": {
        "id": "view-in-github",
        "colab_type": "text"
      },
      "source": [
        "<a href=\"https://colab.research.google.com/github/NBK-code/Intel-Image-Classification/blob/main/VGG16_Fine_Tuned.ipynb\" target=\"_parent\"><img src=\"https://colab.research.google.com/assets/colab-badge.svg\" alt=\"Open In Colab\"/></a>"
      ]
    },
    {
      "cell_type": "code",
      "execution_count": 92,
      "metadata": {
        "id": "57YuqOaghYYi"
      },
      "outputs": [],
      "source": [
        "import pathlib\n",
        "import cv2\n",
        "import numpy as np\n",
        "import matplotlib.pylab as plt\n",
        "from tensorflow import keras\n",
        "import tensorflow as tf\n",
        "from tensorflow.keras.applications.vgg16 import VGG16\n",
        "from tensorflow.keras.models import Model\n",
        "from tensorflow.keras.layers import Input, Dense, Flatten, Dropout\n",
        "from tensorflow.keras.models import Sequential\n",
        "from tensorflow.keras.losses import SparseCategoricalCrossentropy\n",
        "from tensorflow.keras.callbacks import ModelCheckpoint\n",
        "from tensorflow.keras.models import load_model\n",
        "from sklearn.metrics import confusion_matrix\n",
        "import seaborn as sn"
      ]
    },
    {
      "cell_type": "code",
      "source": [
        "from zipfile import ZipFile\n",
        "file_name = 'Intel.zip'\n",
        "\n",
        "with ZipFile(file_name,'r') as zip:\n",
        "  zip.extractall()\n",
        "  print('Done!')"
      ],
      "metadata": {
        "colab": {
          "base_uri": "https://localhost:8080/"
        },
        "id": "WhA1qJNlhoyq",
        "outputId": "8e67f84e-c390-4f0e-e0ec-668c432afca9"
      },
      "execution_count": 93,
      "outputs": [
        {
          "output_type": "stream",
          "name": "stdout",
          "text": [
            "Done!\n"
          ]
        }
      ]
    },
    {
      "cell_type": "code",
      "source": [
        "data_dir_train = pathlib.Path('/content/seg_train/seg_train')\n",
        "data_dir_test = pathlib.Path('/content/seg_test/seg_test')\n",
        "data_dir_pred = pathlib.Path('/content/seg_pred')"
      ],
      "metadata": {
        "id": "eFBAIuc6hrOb"
      },
      "execution_count": 94,
      "outputs": []
    },
    {
      "cell_type": "code",
      "source": [
        "print('The number of train images:', len(list(data_dir_train.glob('*/*.jpg'))))\n",
        "print('The number of test images:', len(list(data_dir_test.glob('*/*.jpg'))))\n",
        "print('The number of pred images:', len(list(data_dir_pred.glob('*/*.jpg'))))"
      ],
      "metadata": {
        "colab": {
          "base_uri": "https://localhost:8080/"
        },
        "id": "B1U27cT9ht5y",
        "outputId": "1856c859-819b-495c-d968-e68e06fe30f1"
      },
      "execution_count": 95,
      "outputs": [
        {
          "output_type": "stream",
          "name": "stdout",
          "text": [
            "The number of train images: 14034\n",
            "The number of test images: 3000\n",
            "The number of pred images: 7301\n"
          ]
        }
      ]
    },
    {
      "cell_type": "code",
      "source": [
        "Intel_train_images_dict = {\n",
        "    'buildings': list(data_dir_train.glob('buildings/*')),\n",
        "    'forest': list(data_dir_train.glob('forest/*')),\n",
        "    'glacier': list(data_dir_train.glob('glacier/*')),\n",
        "    'mountain': list(data_dir_train.glob('mountain/*')),\n",
        "    'sea': list(data_dir_train.glob('sea/*')),\n",
        "    'street': list(data_dir_train.glob('street/*'))\n",
        "}"
      ],
      "metadata": {
        "id": "2vM8zGnlhxmv"
      },
      "execution_count": 96,
      "outputs": []
    },
    {
      "cell_type": "code",
      "source": [
        "Intel_train_images_len_dict = {\n",
        "    'buildings': len(list(data_dir_train.glob('buildings/*'))),\n",
        "    'forest': len(list(data_dir_train.glob('forest/*'))),\n",
        "    'glacier': len(list(data_dir_train.glob('glacier/*'))),\n",
        "    'mountain': len(list(data_dir_train.glob('mountain/*'))),\n",
        "    'sea': len(list(data_dir_train.glob('sea/*'))),\n",
        "    'street': len(list(data_dir_train.glob('street/*')))\n",
        "}\n",
        "\n",
        "Intel_train_images_len_dict"
      ],
      "metadata": {
        "colab": {
          "base_uri": "https://localhost:8080/"
        },
        "id": "jdBytMsHh0MF",
        "outputId": "cf5fa4a5-f4d0-4e05-b786-03f8f9e209b9"
      },
      "execution_count": 97,
      "outputs": [
        {
          "output_type": "execute_result",
          "data": {
            "text/plain": [
              "{'buildings': 2191,\n",
              " 'forest': 2271,\n",
              " 'glacier': 2404,\n",
              " 'mountain': 2512,\n",
              " 'sea': 2274,\n",
              " 'street': 2382}"
            ]
          },
          "metadata": {},
          "execution_count": 97
        }
      ]
    },
    {
      "cell_type": "code",
      "source": [
        "Intel_test_images_dict = {\n",
        "    'buildings': list(data_dir_test.glob('buildings/*')),\n",
        "    'forest': list(data_dir_test.glob('forest/*')),\n",
        "    'glacier': list(data_dir_test.glob('glacier/*')),\n",
        "    'mountain': list(data_dir_test.glob('mountain/*')),\n",
        "    'sea': list(data_dir_test.glob('sea/*')),\n",
        "    'street': list(data_dir_test.glob('street/*'))\n",
        "}"
      ],
      "metadata": {
        "id": "OC7Wzu66h29V"
      },
      "execution_count": 98,
      "outputs": []
    },
    {
      "cell_type": "code",
      "source": [
        "Intel_labels_dict = {\n",
        "    'buildings': 0,\n",
        "    'forest': 1,\n",
        "    'glacier': 2,\n",
        "    'mountain': 3,\n",
        "    'sea': 4,\n",
        "    'street': 5\n",
        "}"
      ],
      "metadata": {
        "id": "lEOUJrA3h6Cy"
      },
      "execution_count": 99,
      "outputs": []
    },
    {
      "cell_type": "code",
      "source": [
        "X_train, y_train = [], []\n",
        "\n",
        "for category, images in Intel_train_images_dict.items():\n",
        "    for image in images:\n",
        "        img = cv2.imread(str(image))\n",
        "        resized_img = cv2.resize(img,(128,128))\n",
        "        X_train.append(resized_img)\n",
        "        y_train.append(Intel_labels_dict[category])"
      ],
      "metadata": {
        "id": "A4uevSlnh9YJ"
      },
      "execution_count": 100,
      "outputs": []
    },
    {
      "cell_type": "code",
      "source": [
        "X_test, y_test = [], []\n",
        "\n",
        "for category, images in Intel_test_images_dict.items():\n",
        "    for image in images:\n",
        "        img = cv2.imread(str(image))\n",
        "        resized_img = cv2.resize(img,(128,128))\n",
        "        X_test.append(resized_img)\n",
        "        y_test.append(Intel_labels_dict[category])"
      ],
      "metadata": {
        "id": "meBsd3LWiAVI"
      },
      "execution_count": 101,
      "outputs": []
    },
    {
      "cell_type": "code",
      "source": [
        "from sklearn.model_selection import train_test_split\n",
        "X_train, X_val, y_train, y_val = train_test_split(X_train, y_train, test_size = 0.2, random_state=0)"
      ],
      "metadata": {
        "id": "MZxtwrtkiDcJ"
      },
      "execution_count": 102,
      "outputs": []
    },
    {
      "cell_type": "code",
      "source": [
        "X_train_scaled = np.array(X_train) / 255.0\n",
        "X_val_scaled = np.array(X_val) / 255.0\n",
        "X_test_scaled = np.array(X_test) / 255.0"
      ],
      "metadata": {
        "id": "iW_mlm3riIXw"
      },
      "execution_count": 103,
      "outputs": []
    },
    {
      "cell_type": "code",
      "source": [
        "y_train = np.array(y_train)\n",
        "y_val = np.array(y_val)\n",
        "y_test = np.array(y_test)"
      ],
      "metadata": {
        "id": "oLFWSUSwiK2S"
      },
      "execution_count": 104,
      "outputs": []
    },
    {
      "cell_type": "code",
      "source": [
        "print('Shape of X_train_scaled:', X_train_scaled.shape)\n",
        "print('Shape of X_val_scaled:', X_val_scaled.shape)\n",
        "print('Shape of X_test_scaled:', X_test_scaled.shape)"
      ],
      "metadata": {
        "colab": {
          "base_uri": "https://localhost:8080/"
        },
        "id": "4ZHj9WzxiNZy",
        "outputId": "686733a1-b5b7-48d3-e1ca-27f1f5d1ebe8"
      },
      "execution_count": 105,
      "outputs": [
        {
          "output_type": "stream",
          "name": "stdout",
          "text": [
            "Shape of X_train_scaled: (11227, 128, 128, 3)\n",
            "Shape of X_val_scaled: (2807, 128, 128, 3)\n",
            "Shape of X_test_scaled: (3000, 128, 128, 3)\n"
          ]
        }
      ]
    },
    {
      "cell_type": "code",
      "source": [
        "vgg16 = VGG16(input_shape = (128,128,3) , weights='imagenet', include_top=False)"
      ],
      "metadata": {
        "id": "doVSG5LTiQTt"
      },
      "execution_count": 106,
      "outputs": []
    },
    {
      "cell_type": "code",
      "source": [
        "for layer in vgg16.layers:\n",
        "    layer.trainable = False"
      ],
      "metadata": {
        "id": "TFcHUiIliUtf"
      },
      "execution_count": 107,
      "outputs": []
    },
    {
      "cell_type": "code",
      "source": [
        "h1 = Flatten()(vgg16.output)\n",
        "h2 = Dense(200, activation = 'relu')(h1)\n",
        "h3 = Dropout(0.2)(h2)\n",
        "h4 = Dense(200, activation = 'relu')(h3)\n",
        "prediction = Dense(6, activation='softmax')(h4)\n",
        "\n",
        "model = Model(inputs=vgg16.input, outputs=prediction)"
      ],
      "metadata": {
        "id": "RlkeYV4NiXgV"
      },
      "execution_count": 108,
      "outputs": []
    },
    {
      "cell_type": "code",
      "source": [
        "optimizer_obj = tf.keras.optimizers.Adam(learning_rate=0.00001)\n",
        "model.compile(loss=SparseCategoricalCrossentropy(), optimizer=optimizer_obj, metrics=['accuracy'])"
      ],
      "metadata": {
        "id": "Uh5sDmiTiazD"
      },
      "execution_count": 109,
      "outputs": []
    },
    {
      "cell_type": "code",
      "source": [
        "cp = ModelCheckpoint('models/VGG_transfer_learning', save_best_only=True)\n",
        "r = model.fit(X_train_scaled, y_train, epochs=50, validation_data=(X_val_scaled, y_val), callbacks = [cp])"
      ],
      "metadata": {
        "colab": {
          "base_uri": "https://localhost:8080/"
        },
        "id": "1NiP__YiieGg",
        "outputId": "eab7e11e-30c3-4cf8-c643-73c52d2f0aa9"
      },
      "execution_count": 110,
      "outputs": [
        {
          "output_type": "stream",
          "name": "stdout",
          "text": [
            "Epoch 1/50\n",
            "351/351 [==============================] - ETA: 0s - loss: 1.2807 - accuracy: 0.5745INFO:tensorflow:Assets written to: models/VGG_transfer_learning/assets\n",
            "351/351 [==============================] - 17s 47ms/step - loss: 1.2807 - accuracy: 0.5745 - val_loss: 0.7561 - val_accuracy: 0.7959\n",
            "Epoch 2/50\n",
            "351/351 [==============================] - ETA: 0s - loss: 0.6750 - accuracy: 0.7863INFO:tensorflow:Assets written to: models/VGG_transfer_learning/assets\n",
            "351/351 [==============================] - 15s 44ms/step - loss: 0.6750 - accuracy: 0.7863 - val_loss: 0.5215 - val_accuracy: 0.8290\n",
            "Epoch 3/50\n",
            "351/351 [==============================] - ETA: 0s - loss: 0.5263 - accuracy: 0.8244INFO:tensorflow:Assets written to: models/VGG_transfer_learning/assets\n",
            "351/351 [==============================] - 15s 44ms/step - loss: 0.5263 - accuracy: 0.8244 - val_loss: 0.4487 - val_accuracy: 0.8489\n",
            "Epoch 4/50\n",
            "351/351 [==============================] - ETA: 0s - loss: 0.4637 - accuracy: 0.8415INFO:tensorflow:Assets written to: models/VGG_transfer_learning/assets\n",
            "351/351 [==============================] - 16s 45ms/step - loss: 0.4637 - accuracy: 0.8415 - val_loss: 0.4136 - val_accuracy: 0.8550\n",
            "Epoch 5/50\n",
            "351/351 [==============================] - ETA: 0s - loss: 0.4218 - accuracy: 0.8558INFO:tensorflow:Assets written to: models/VGG_transfer_learning/assets\n",
            "351/351 [==============================] - 15s 44ms/step - loss: 0.4218 - accuracy: 0.8558 - val_loss: 0.3887 - val_accuracy: 0.8603\n",
            "Epoch 6/50\n",
            "351/351 [==============================] - ETA: 0s - loss: 0.3987 - accuracy: 0.8619INFO:tensorflow:Assets written to: models/VGG_transfer_learning/assets\n",
            "351/351 [==============================] - 16s 44ms/step - loss: 0.3987 - accuracy: 0.8619 - val_loss: 0.3714 - val_accuracy: 0.8646\n",
            "Epoch 7/50\n",
            "351/351 [==============================] - ETA: 0s - loss: 0.3752 - accuracy: 0.8694INFO:tensorflow:Assets written to: models/VGG_transfer_learning/assets\n",
            "351/351 [==============================] - 15s 44ms/step - loss: 0.3752 - accuracy: 0.8694 - val_loss: 0.3613 - val_accuracy: 0.8707\n",
            "Epoch 8/50\n",
            "351/351 [==============================] - ETA: 0s - loss: 0.3602 - accuracy: 0.8738INFO:tensorflow:Assets written to: models/VGG_transfer_learning/assets\n",
            "351/351 [==============================] - 15s 44ms/step - loss: 0.3602 - accuracy: 0.8738 - val_loss: 0.3507 - val_accuracy: 0.8782\n",
            "Epoch 9/50\n",
            "351/351 [==============================] - ETA: 0s - loss: 0.3419 - accuracy: 0.8779INFO:tensorflow:Assets written to: models/VGG_transfer_learning/assets\n",
            "351/351 [==============================] - 16s 45ms/step - loss: 0.3419 - accuracy: 0.8779 - val_loss: 0.3423 - val_accuracy: 0.8799\n",
            "Epoch 10/50\n",
            "351/351 [==============================] - ETA: 0s - loss: 0.3322 - accuracy: 0.8866INFO:tensorflow:Assets written to: models/VGG_transfer_learning/assets\n",
            "351/351 [==============================] - 15s 44ms/step - loss: 0.3322 - accuracy: 0.8866 - val_loss: 0.3334 - val_accuracy: 0.8846\n",
            "Epoch 11/50\n",
            "351/351 [==============================] - ETA: 0s - loss: 0.3185 - accuracy: 0.8893INFO:tensorflow:Assets written to: models/VGG_transfer_learning/assets\n",
            "351/351 [==============================] - 16s 45ms/step - loss: 0.3185 - accuracy: 0.8893 - val_loss: 0.3317 - val_accuracy: 0.8842\n",
            "Epoch 12/50\n",
            "351/351 [==============================] - ETA: 0s - loss: 0.3062 - accuracy: 0.8922INFO:tensorflow:Assets written to: models/VGG_transfer_learning/assets\n",
            "351/351 [==============================] - 15s 44ms/step - loss: 0.3062 - accuracy: 0.8922 - val_loss: 0.3243 - val_accuracy: 0.8885\n",
            "Epoch 13/50\n",
            "351/351 [==============================] - ETA: 0s - loss: 0.2941 - accuracy: 0.8986INFO:tensorflow:Assets written to: models/VGG_transfer_learning/assets\n",
            "351/351 [==============================] - 16s 45ms/step - loss: 0.2941 - accuracy: 0.8986 - val_loss: 0.3175 - val_accuracy: 0.8928\n",
            "Epoch 14/50\n",
            "351/351 [==============================] - 13s 37ms/step - loss: 0.2890 - accuracy: 0.8993 - val_loss: 0.3178 - val_accuracy: 0.8928\n",
            "Epoch 15/50\n",
            "351/351 [==============================] - ETA: 0s - loss: 0.2810 - accuracy: 0.9019INFO:tensorflow:Assets written to: models/VGG_transfer_learning/assets\n",
            "351/351 [==============================] - 15s 44ms/step - loss: 0.2810 - accuracy: 0.9019 - val_loss: 0.3126 - val_accuracy: 0.8942\n",
            "Epoch 16/50\n",
            "351/351 [==============================] - ETA: 0s - loss: 0.2728 - accuracy: 0.9053INFO:tensorflow:Assets written to: models/VGG_transfer_learning/assets\n",
            "351/351 [==============================] - 15s 44ms/step - loss: 0.2728 - accuracy: 0.9053 - val_loss: 0.3113 - val_accuracy: 0.8953\n",
            "Epoch 17/50\n",
            "351/351 [==============================] - ETA: 0s - loss: 0.2624 - accuracy: 0.9099INFO:tensorflow:Assets written to: models/VGG_transfer_learning/assets\n",
            "351/351 [==============================] - 16s 45ms/step - loss: 0.2624 - accuracy: 0.9099 - val_loss: 0.3064 - val_accuracy: 0.8945\n",
            "Epoch 18/50\n",
            "351/351 [==============================] - ETA: 0s - loss: 0.2571 - accuracy: 0.9124INFO:tensorflow:Assets written to: models/VGG_transfer_learning/assets\n",
            "351/351 [==============================] - 15s 44ms/step - loss: 0.2571 - accuracy: 0.9124 - val_loss: 0.3044 - val_accuracy: 0.8981\n",
            "Epoch 19/50\n",
            "351/351 [==============================] - ETA: 0s - loss: 0.2482 - accuracy: 0.9127INFO:tensorflow:Assets written to: models/VGG_transfer_learning/assets\n",
            "351/351 [==============================] - 15s 44ms/step - loss: 0.2482 - accuracy: 0.9127 - val_loss: 0.3014 - val_accuracy: 0.8978\n",
            "Epoch 20/50\n",
            "351/351 [==============================] - ETA: 0s - loss: 0.2421 - accuracy: 0.9156INFO:tensorflow:Assets written to: models/VGG_transfer_learning/assets\n",
            "351/351 [==============================] - 16s 45ms/step - loss: 0.2421 - accuracy: 0.9156 - val_loss: 0.2994 - val_accuracy: 0.8992\n",
            "Epoch 21/50\n",
            "351/351 [==============================] - ETA: 0s - loss: 0.2336 - accuracy: 0.9209INFO:tensorflow:Assets written to: models/VGG_transfer_learning/assets\n",
            "351/351 [==============================] - 15s 44ms/step - loss: 0.2336 - accuracy: 0.9209 - val_loss: 0.2981 - val_accuracy: 0.8995\n",
            "Epoch 22/50\n",
            "351/351 [==============================] - ETA: 0s - loss: 0.2301 - accuracy: 0.9205INFO:tensorflow:Assets written to: models/VGG_transfer_learning/assets\n",
            "351/351 [==============================] - 16s 45ms/step - loss: 0.2301 - accuracy: 0.9205 - val_loss: 0.2956 - val_accuracy: 0.8988\n",
            "Epoch 23/50\n",
            "351/351 [==============================] - ETA: 0s - loss: 0.2245 - accuracy: 0.9220INFO:tensorflow:Assets written to: models/VGG_transfer_learning/assets\n",
            "351/351 [==============================] - 15s 44ms/step - loss: 0.2245 - accuracy: 0.9220 - val_loss: 0.2938 - val_accuracy: 0.8981\n",
            "Epoch 24/50\n",
            "351/351 [==============================] - 13s 37ms/step - loss: 0.2176 - accuracy: 0.9235 - val_loss: 0.2942 - val_accuracy: 0.8995\n",
            "Epoch 25/50\n",
            "351/351 [==============================] - 13s 37ms/step - loss: 0.2112 - accuracy: 0.9276 - val_loss: 0.2958 - val_accuracy: 0.8963\n",
            "Epoch 26/50\n",
            "351/351 [==============================] - ETA: 0s - loss: 0.2068 - accuracy: 0.9280INFO:tensorflow:Assets written to: models/VGG_transfer_learning/assets\n",
            "351/351 [==============================] - 16s 45ms/step - loss: 0.2068 - accuracy: 0.9280 - val_loss: 0.2918 - val_accuracy: 0.9013\n",
            "Epoch 27/50\n",
            "351/351 [==============================] - 13s 37ms/step - loss: 0.1980 - accuracy: 0.9345 - val_loss: 0.2942 - val_accuracy: 0.8995\n",
            "Epoch 28/50\n",
            "351/351 [==============================] - 13s 37ms/step - loss: 0.1934 - accuracy: 0.9343 - val_loss: 0.2933 - val_accuracy: 0.8992\n",
            "Epoch 29/50\n",
            "351/351 [==============================] - 13s 37ms/step - loss: 0.1894 - accuracy: 0.9363 - val_loss: 0.2930 - val_accuracy: 0.8988\n",
            "Epoch 30/50\n",
            "351/351 [==============================] - 13s 37ms/step - loss: 0.1833 - accuracy: 0.9416 - val_loss: 0.2953 - val_accuracy: 0.8988\n",
            "Epoch 31/50\n",
            "351/351 [==============================] - 13s 37ms/step - loss: 0.1797 - accuracy: 0.9399 - val_loss: 0.2923 - val_accuracy: 0.9010\n",
            "Epoch 32/50\n",
            "351/351 [==============================] - 13s 37ms/step - loss: 0.1780 - accuracy: 0.9397 - val_loss: 0.2922 - val_accuracy: 0.9006\n",
            "Epoch 33/50\n",
            "351/351 [==============================] - 13s 37ms/step - loss: 0.1703 - accuracy: 0.9439 - val_loss: 0.2921 - val_accuracy: 0.9006\n",
            "Epoch 34/50\n",
            "351/351 [==============================] - ETA: 0s - loss: 0.1660 - accuracy: 0.9449INFO:tensorflow:Assets written to: models/VGG_transfer_learning/assets\n",
            "351/351 [==============================] - 15s 44ms/step - loss: 0.1660 - accuracy: 0.9449 - val_loss: 0.2917 - val_accuracy: 0.8988\n",
            "Epoch 35/50\n",
            "351/351 [==============================] - 13s 37ms/step - loss: 0.1609 - accuracy: 0.9481 - val_loss: 0.2925 - val_accuracy: 0.8995\n",
            "Epoch 36/50\n",
            "351/351 [==============================] - ETA: 0s - loss: 0.1579 - accuracy: 0.9502INFO:tensorflow:Assets written to: models/VGG_transfer_learning/assets\n",
            "351/351 [==============================] - 15s 44ms/step - loss: 0.1579 - accuracy: 0.9502 - val_loss: 0.2908 - val_accuracy: 0.9002\n",
            "Epoch 37/50\n",
            "351/351 [==============================] - 13s 36ms/step - loss: 0.1531 - accuracy: 0.9515 - val_loss: 0.2910 - val_accuracy: 0.8992\n",
            "Epoch 38/50\n",
            "351/351 [==============================] - ETA: 0s - loss: 0.1480 - accuracy: 0.9537INFO:tensorflow:Assets written to: models/VGG_transfer_learning/assets\n",
            "351/351 [==============================] - 16s 45ms/step - loss: 0.1480 - accuracy: 0.9537 - val_loss: 0.2908 - val_accuracy: 0.8995\n",
            "Epoch 39/50\n",
            "351/351 [==============================] - 13s 37ms/step - loss: 0.1451 - accuracy: 0.9546 - val_loss: 0.2913 - val_accuracy: 0.9020\n",
            "Epoch 40/50\n",
            "351/351 [==============================] - 13s 37ms/step - loss: 0.1414 - accuracy: 0.9539 - val_loss: 0.2908 - val_accuracy: 0.9010\n",
            "Epoch 41/50\n",
            "351/351 [==============================] - 13s 37ms/step - loss: 0.1360 - accuracy: 0.9579 - val_loss: 0.2942 - val_accuracy: 0.8992\n",
            "Epoch 42/50\n",
            "351/351 [==============================] - 13s 37ms/step - loss: 0.1334 - accuracy: 0.9581 - val_loss: 0.2951 - val_accuracy: 0.8988\n",
            "Epoch 43/50\n",
            "351/351 [==============================] - 13s 37ms/step - loss: 0.1293 - accuracy: 0.9585 - val_loss: 0.2939 - val_accuracy: 0.8978\n",
            "Epoch 44/50\n",
            "351/351 [==============================] - 13s 37ms/step - loss: 0.1239 - accuracy: 0.9613 - val_loss: 0.2983 - val_accuracy: 0.8970\n",
            "Epoch 45/50\n",
            "351/351 [==============================] - 13s 37ms/step - loss: 0.1229 - accuracy: 0.9616 - val_loss: 0.2955 - val_accuracy: 0.9010\n",
            "Epoch 46/50\n",
            "351/351 [==============================] - 13s 37ms/step - loss: 0.1188 - accuracy: 0.9631 - val_loss: 0.2948 - val_accuracy: 0.9006\n",
            "Epoch 47/50\n",
            "351/351 [==============================] - 13s 37ms/step - loss: 0.1149 - accuracy: 0.9654 - val_loss: 0.2964 - val_accuracy: 0.8999\n",
            "Epoch 48/50\n",
            "351/351 [==============================] - 13s 37ms/step - loss: 0.1104 - accuracy: 0.9663 - val_loss: 0.2980 - val_accuracy: 0.8992\n",
            "Epoch 49/50\n",
            "351/351 [==============================] - 13s 37ms/step - loss: 0.1051 - accuracy: 0.9680 - val_loss: 0.2994 - val_accuracy: 0.8985\n",
            "Epoch 50/50\n",
            "351/351 [==============================] - 13s 37ms/step - loss: 0.1046 - accuracy: 0.9686 - val_loss: 0.3004 - val_accuracy: 0.8992\n"
          ]
        }
      ]
    },
    {
      "cell_type": "code",
      "source": [
        "# plot the loss\n",
        "plt.plot(r.history['loss'], label='train loss')\n",
        "plt.plot(r.history['val_loss'], label='val loss')\n",
        "plt.legend()\n",
        "plt.show()\n",
        "plt.savefig('LossVal_loss')\n",
        "\n",
        "# plot the accuracy\n",
        "plt.plot(r.history['accuracy'], label='train acc')\n",
        "plt.plot(r.history['val_accuracy'], label='val acc')\n",
        "plt.legend()\n",
        "plt.show()\n",
        "plt.savefig('AccVal_acc')"
      ],
      "metadata": {
        "colab": {
          "base_uri": "https://localhost:8080/",
          "height": 530
        },
        "id": "gZ2NVw-pigju",
        "outputId": "175f3dd3-0324-4f78-a8f0-c96a6288c599"
      },
      "execution_count": 111,
      "outputs": [
        {
          "output_type": "display_data",
          "data": {
            "text/plain": [
              "<Figure size 432x288 with 1 Axes>"
            ],
            "image/png": "[encoded data removed]"
          },
          "metadata": {
            "needs_background": "light"
          }
        },
        {
          "output_type": "display_data",
          "data": {
            "text/plain": [
              "<Figure size 432x288 with 1 Axes>"
            ],
            "image/png": "[encoded data removed]"
          },
          "metadata": {
            "needs_background": "light"
          }
        },
        {
          "output_type": "display_data",
          "data": {
            "text/plain": [
              "<Figure size 432x288 with 0 Axes>"
            ]
          },
          "metadata": {}
        }
      ]
    },
    {
      "cell_type": "code",
      "source": [
        "model = load_model('models/VGG_transfer_learning')"
      ],
      "metadata": {
        "id": "ZtnBB3I-ilwm"
      },
      "execution_count": 112,
      "outputs": []
    },
    {
      "cell_type": "code",
      "source": [
        "model.evaluate(X_test_scaled,y_test)"
      ],
      "metadata": {
        "colab": {
          "base_uri": "https://localhost:8080/"
        },
        "id": "bPjx5e4firk2",
        "outputId": "e2de37a5-1109-4e83-a9b9-1f155339d61f"
      },
      "execution_count": 113,
      "outputs": [
        {
          "output_type": "stream",
          "name": "stdout",
          "text": [
            "94/94 [==============================] - 3s 30ms/step - loss: 0.2937 - accuracy: 0.8947\n"
          ]
        },
        {
          "output_type": "execute_result",
          "data": {
            "text/plain": [
              "[0.29367005825042725, 0.8946666717529297]"
            ]
          },
          "metadata": {},
          "execution_count": 113
        }
      ]
    },
    {
      "cell_type": "code",
      "source": [
        "test_predictions = model.predict(X_test_scaled)  \n",
        "test_pred_labels = np.argmax(test_predictions, axis = 1)"
      ],
      "metadata": {
        "id": "lCJR5nr4isLW"
      },
      "execution_count": 114,
      "outputs": []
    },
    {
      "cell_type": "code",
      "source": [
        "CM = confusion_matrix(y_test, test_pred_labels)\n",
        "ax = plt.axes()\n",
        "class_names = ['buildings', 'forest', 'glacier', 'mountain', 'sea', 'street']\n",
        "sn.heatmap(CM, annot=True, \n",
        "           annot_kws={\"size\": 8}, \n",
        "           xticklabels=class_names, \n",
        "           yticklabels=class_names, ax = ax, cmap='Blues')\n",
        "ax.set_title('Confusion matrix')\n",
        "plt.show()"
      ],
      "metadata": {
        "colab": {
          "base_uri": "https://localhost:8080/",
          "height": 281
        },
        "id": "fkcbHrO0iupi",
        "outputId": "34984fd4-208f-4c35-a2cf-ea0b45e1f558"
      },
      "execution_count": 115,
      "outputs": [
        {
          "output_type": "display_data",
          "data": {
            "text/plain": [
              "<Figure size 432x288 with 2 Axes>"
            ],
            "image/png": "[encoded data removed]"
          },
          "metadata": {
            "needs_background": "light"
          }
        }
      ]
    }
  ]
}