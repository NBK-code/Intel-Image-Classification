{
  "nbformat": 4,
  "nbformat_minor": 0,
  "metadata": {
    "colab": {
      "name": "VGG16_Fine_Tuned.ipynb",
      "provenance": [],
      "collapsed_sections": [],
      "machine_shape": "hm",
      "authorship_tag": "ABX9TyOppW1fbD1bZa+v/Jsbgp73",
      "include_colab_link": true
    },
    "kernelspec": {
      "name": "python3",
      "display_name": "Python 3"
    },
    "language_info": {
      "name": "python"
    },
    "accelerator": "GPU"
  },
  "cells": [
    {
      "cell_type": "markdown",
      "metadata": {
        "id": "view-in-github",
        "colab_type": "text"
      },
      "source": [
        "<a href=\"https://colab.research.google.com/github/NBK-code/Intel-Image-Classification/blob/main/VGG16_Fine_Tuned.ipynb\" target=\"_parent\"><img src=\"https://colab.research.google.com/assets/colab-badge.svg\" alt=\"Open In Colab\"/></a>"
      ]
    },
    {
      "cell_type": "code",
      "execution_count": 1,
      "metadata": {
        "id": "57YuqOaghYYi"
      },
      "outputs": [],
      "source": [
        "import pathlib\n",
        "import cv2\n",
        "import numpy as np\n",
        "import matplotlib.pylab as plt\n",
        "from tensorflow import keras\n",
        "import tensorflow as tf\n",
        "from tensorflow.keras.applications.vgg16 import VGG16\n",
        "from tensorflow.keras.models import Model\n",
        "from tensorflow.keras.layers import Input, Dense, Flatten, Dropout\n",
        "from tensorflow.keras.models import Sequential\n",
        "from tensorflow.keras.losses import SparseCategoricalCrossentropy\n",
        "from tensorflow.keras.callbacks import ModelCheckpoint\n",
        "from tensorflow.keras.models import load_model\n",
        "from sklearn.metrics import confusion_matrix\n",
        "import seaborn as sn"
      ]
    },
    {
      "cell_type": "code",
      "source": [
        "from zipfile import ZipFile\n",
        "file_name = 'Intel.zip'\n",
        "\n",
        "with ZipFile(file_name,'r') as zip:\n",
        "  zip.extractall()\n",
        "  print('Done!')"
      ],
      "metadata": {
        "colab": {
          "base_uri": "https://localhost:8080/"
        },
        "id": "WhA1qJNlhoyq",
        "outputId": "42f30a75-6244-49c1-d621-d5ed1d111c53"
      },
      "execution_count": 2,
      "outputs": [
        {
          "output_type": "stream",
          "name": "stdout",
          "text": [
            "Done!\n"
          ]
        }
      ]
    },
    {
      "cell_type": "code",
      "source": [
        "data_dir_train = pathlib.Path('/content/seg_train/seg_train')\n",
        "data_dir_test = pathlib.Path('/content/seg_test/seg_test')\n",
        "data_dir_pred = pathlib.Path('/content/seg_pred')"
      ],
      "metadata": {
        "id": "eFBAIuc6hrOb"
      },
      "execution_count": 3,
      "outputs": []
    },
    {
      "cell_type": "code",
      "source": [
        "print('The number of train images:', len(list(data_dir_train.glob('*/*.jpg'))))\n",
        "print('The number of test images:', len(list(data_dir_test.glob('*/*.jpg'))))\n",
        "print('The number of pred images:', len(list(data_dir_pred.glob('*/*.jpg'))))"
      ],
      "metadata": {
        "colab": {
          "base_uri": "https://localhost:8080/"
        },
        "id": "B1U27cT9ht5y",
        "outputId": "fef465bb-e4cb-43b6-aae5-76be44eed809"
      },
      "execution_count": 4,
      "outputs": [
        {
          "output_type": "stream",
          "name": "stdout",
          "text": [
            "The number of train images: 14034\n",
            "The number of test images: 3000\n",
            "The number of pred images: 7301\n"
          ]
        }
      ]
    },
    {
      "cell_type": "code",
      "source": [
        "Intel_train_images_dict = {\n",
        "    'buildings': list(data_dir_train.glob('buildings/*')),\n",
        "    'forest': list(data_dir_train.glob('forest/*')),\n",
        "    'glacier': list(data_dir_train.glob('glacier/*')),\n",
        "    'mountain': list(data_dir_train.glob('mountain/*')),\n",
        "    'sea': list(data_dir_train.glob('sea/*')),\n",
        "    'street': list(data_dir_train.glob('street/*'))\n",
        "}"
      ],
      "metadata": {
        "id": "2vM8zGnlhxmv"
      },
      "execution_count": 5,
      "outputs": []
    },
    {
      "cell_type": "code",
      "source": [
        "Intel_train_images_len_dict = {\n",
        "    'buildings': len(list(data_dir_train.glob('buildings/*'))),\n",
        "    'forest': len(list(data_dir_train.glob('forest/*'))),\n",
        "    'glacier': len(list(data_dir_train.glob('glacier/*'))),\n",
        "    'mountain': len(list(data_dir_train.glob('mountain/*'))),\n",
        "    'sea': len(list(data_dir_train.glob('sea/*'))),\n",
        "    'street': len(list(data_dir_train.glob('street/*')))\n",
        "}\n",
        "\n",
        "Intel_train_images_len_dict"
      ],
      "metadata": {
        "colab": {
          "base_uri": "https://localhost:8080/"
        },
        "id": "jdBytMsHh0MF",
        "outputId": "330e1113-7bca-4259-c344-c91bdf6d6546"
      },
      "execution_count": 6,
      "outputs": [
        {
          "output_type": "execute_result",
          "data": {
            "text/plain": [
              "{'buildings': 2191,\n",
              " 'forest': 2271,\n",
              " 'glacier': 2404,\n",
              " 'mountain': 2512,\n",
              " 'sea': 2274,\n",
              " 'street': 2382}"
            ]
          },
          "metadata": {},
          "execution_count": 6
        }
      ]
    },
    {
      "cell_type": "code",
      "source": [
        "Intel_test_images_dict = {\n",
        "    'buildings': list(data_dir_test.glob('buildings/*')),\n",
        "    'forest': list(data_dir_test.glob('forest/*')),\n",
        "    'glacier': list(data_dir_test.glob('glacier/*')),\n",
        "    'mountain': list(data_dir_test.glob('mountain/*')),\n",
        "    'sea': list(data_dir_test.glob('sea/*')),\n",
        "    'street': list(data_dir_test.glob('street/*'))\n",
        "}"
      ],
      "metadata": {
        "id": "OC7Wzu66h29V"
      },
      "execution_count": 7,
      "outputs": []
    },
    {
      "cell_type": "code",
      "source": [
        "Intel_labels_dict = {\n",
        "    'buildings': 0,\n",
        "    'forest': 1,\n",
        "    'glacier': 2,\n",
        "    'mountain': 3,\n",
        "    'sea': 4,\n",
        "    'street': 5\n",
        "}"
      ],
      "metadata": {
        "id": "lEOUJrA3h6Cy"
      },
      "execution_count": 8,
      "outputs": []
    },
    {
      "cell_type": "code",
      "source": [
        "X_train, y_train = [], []\n",
        "\n",
        "for category, images in Intel_train_images_dict.items():\n",
        "    for image in images:\n",
        "        img = cv2.imread(str(image))\n",
        "        resized_img = cv2.resize(img,(128,128))\n",
        "        X_train.append(resized_img)\n",
        "        y_train.append(Intel_labels_dict[category])"
      ],
      "metadata": {
        "id": "A4uevSlnh9YJ"
      },
      "execution_count": 9,
      "outputs": []
    },
    {
      "cell_type": "code",
      "source": [
        "X_test, y_test = [], []\n",
        "\n",
        "for category, images in Intel_test_images_dict.items():\n",
        "    for image in images:\n",
        "        img = cv2.imread(str(image))\n",
        "        resized_img = cv2.resize(img,(128,128))\n",
        "        X_test.append(resized_img)\n",
        "        y_test.append(Intel_labels_dict[category])"
      ],
      "metadata": {
        "id": "meBsd3LWiAVI"
      },
      "execution_count": 10,
      "outputs": []
    },
    {
      "cell_type": "code",
      "source": [
        "from sklearn.model_selection import train_test_split\n",
        "X_train, X_val, y_train, y_val = train_test_split(X_train, y_train, test_size = 0.2, random_state=0)"
      ],
      "metadata": {
        "id": "MZxtwrtkiDcJ"
      },
      "execution_count": 11,
      "outputs": []
    },
    {
      "cell_type": "code",
      "source": [
        "X_train_scaled = np.array(X_train) / 255.0\n",
        "X_val_scaled = np.array(X_val) / 255.0\n",
        "X_test_scaled = np.array(X_test) / 255.0"
      ],
      "metadata": {
        "id": "iW_mlm3riIXw"
      },
      "execution_count": 12,
      "outputs": []
    },
    {
      "cell_type": "code",
      "source": [
        "y_train = np.array(y_train)\n",
        "y_val = np.array(y_val)\n",
        "y_test = np.array(y_test)"
      ],
      "metadata": {
        "id": "oLFWSUSwiK2S"
      },
      "execution_count": 13,
      "outputs": []
    },
    {
      "cell_type": "code",
      "source": [
        "print('Shape of X_train_scaled:', X_train_scaled.shape)\n",
        "print('Shape of X_val_scaled:', X_val_scaled.shape)\n",
        "print('Shape of X_test_scaled:', X_test_scaled.shape)"
      ],
      "metadata": {
        "colab": {
          "base_uri": "https://localhost:8080/"
        },
        "id": "4ZHj9WzxiNZy",
        "outputId": "1cc74bea-13d7-47b7-d534-b14b6310e2f1"
      },
      "execution_count": 14,
      "outputs": [
        {
          "output_type": "stream",
          "name": "stdout",
          "text": [
            "Shape of X_train_scaled: (11227, 128, 128, 3)\n",
            "Shape of X_val_scaled: (2807, 128, 128, 3)\n",
            "Shape of X_test_scaled: (3000, 128, 128, 3)\n"
          ]
        }
      ]
    },
    {
      "cell_type": "code",
      "source": [
        "vgg16 = VGG16(input_shape = (128,128,3) , weights='imagenet', include_top=False)"
      ],
      "metadata": {
        "id": "doVSG5LTiQTt",
        "colab": {
          "base_uri": "https://localhost:8080/"
        },
        "outputId": "2fa847f4-c79f-4eda-abf5-9bb6157c2caa"
      },
      "execution_count": 15,
      "outputs": [
        {
          "output_type": "stream",
          "name": "stdout",
          "text": [
            "Downloading data from https://storage.googleapis.com/tensorflow/keras-applications/vgg16/vgg16_weights_tf_dim_ordering_tf_kernels_notop.h5\n",
            "58892288/58889256 [==============================] - 0s 0us/step\n",
            "58900480/58889256 [==============================] - 0s 0us/step\n"
          ]
        }
      ]
    },
    {
      "cell_type": "code",
      "source": [
        "for layer in vgg16.layers:\n",
        "    layer.trainable = False"
      ],
      "metadata": {
        "id": "TFcHUiIliUtf"
      },
      "execution_count": 16,
      "outputs": []
    },
    {
      "cell_type": "code",
      "source": [
        "h1 = Flatten()(vgg16.output)\n",
        "h2 = Dense(200, activation = 'relu')(h1)\n",
        "h3 = Dropout(0.2)(h2)\n",
        "h4 = Dense(200, activation = 'relu')(h3)\n",
        "prediction = Dense(6, activation='softmax')(h4)\n",
        "\n",
        "model = Model(inputs=vgg16.input, outputs=prediction)"
      ],
      "metadata": {
        "id": "RlkeYV4NiXgV"
      },
      "execution_count": 54,
      "outputs": []
    },
    {
      "cell_type": "code",
      "source": [
        "optimizer_obj = tf.keras.optimizers.Adam(learning_rate=0.00001)\n",
        "model.compile(loss=SparseCategoricalCrossentropy(), optimizer=optimizer_obj, metrics=['accuracy'])"
      ],
      "metadata": {
        "id": "Uh5sDmiTiazD"
      },
      "execution_count": 55,
      "outputs": []
    },
    {
      "cell_type": "code",
      "source": [
        "cp = ModelCheckpoint('models/VGG_transfer_learning', save_best_only=True)\n",
        "r = model.fit(X_train_scaled, y_train, epochs=50, validation_data=(X_val_scaled, y_val), callbacks = [cp])"
      ],
      "metadata": {
        "colab": {
          "base_uri": "https://localhost:8080/"
        },
        "id": "1NiP__YiieGg",
        "outputId": "30788abe-e6ed-4de5-bd37-15b3ce6b8f5d"
      },
      "execution_count": 56,
      "outputs": [
        {
          "output_type": "stream",
          "name": "stdout",
          "text": [
            "Epoch 1/50\n",
            "351/351 [==============================] - ETA: 0s - loss: 1.2629 - accuracy: 0.5909INFO:tensorflow:Assets written to: models/VGG_transfer_learning/assets\n",
            "351/351 [==============================] - 17s 47ms/step - loss: 1.2629 - accuracy: 0.5909 - val_loss: 0.7768 - val_accuracy: 0.7827\n",
            "Epoch 2/50\n",
            "351/351 [==============================] - ETA: 0s - loss: 0.6839 - accuracy: 0.7913INFO:tensorflow:Assets written to: models/VGG_transfer_learning/assets\n",
            "351/351 [==============================] - 15s 43ms/step - loss: 0.6839 - accuracy: 0.7913 - val_loss: 0.5362 - val_accuracy: 0.8258\n",
            "Epoch 3/50\n",
            "351/351 [==============================] - ETA: 0s - loss: 0.5323 - accuracy: 0.8244INFO:tensorflow:Assets written to: models/VGG_transfer_learning/assets\n",
            "351/351 [==============================] - 15s 43ms/step - loss: 0.5323 - accuracy: 0.8244 - val_loss: 0.4649 - val_accuracy: 0.8372\n",
            "Epoch 4/50\n",
            "351/351 [==============================] - ETA: 0s - loss: 0.4720 - accuracy: 0.8358INFO:tensorflow:Assets written to: models/VGG_transfer_learning/assets\n",
            "351/351 [==============================] - 16s 45ms/step - loss: 0.4720 - accuracy: 0.8358 - val_loss: 0.4229 - val_accuracy: 0.8550\n",
            "Epoch 5/50\n",
            "351/351 [==============================] - ETA: 0s - loss: 0.4250 - accuracy: 0.8518INFO:tensorflow:Assets written to: models/VGG_transfer_learning/assets\n",
            "351/351 [==============================] - 15s 44ms/step - loss: 0.4250 - accuracy: 0.8518 - val_loss: 0.3957 - val_accuracy: 0.8621\n",
            "Epoch 6/50\n",
            "351/351 [==============================] - ETA: 0s - loss: 0.4032 - accuracy: 0.8610INFO:tensorflow:Assets written to: models/VGG_transfer_learning/assets\n",
            "351/351 [==============================] - 16s 44ms/step - loss: 0.4032 - accuracy: 0.8610 - val_loss: 0.3747 - val_accuracy: 0.8693\n",
            "Epoch 7/50\n",
            "351/351 [==============================] - ETA: 0s - loss: 0.3772 - accuracy: 0.8683INFO:tensorflow:Assets written to: models/VGG_transfer_learning/assets\n",
            "351/351 [==============================] - 15s 44ms/step - loss: 0.3772 - accuracy: 0.8683 - val_loss: 0.3652 - val_accuracy: 0.8739\n",
            "Epoch 8/50\n",
            "351/351 [==============================] - ETA: 0s - loss: 0.3647 - accuracy: 0.8733INFO:tensorflow:Assets written to: models/VGG_transfer_learning/assets\n",
            "351/351 [==============================] - 16s 45ms/step - loss: 0.3647 - accuracy: 0.8733 - val_loss: 0.3544 - val_accuracy: 0.8714\n",
            "Epoch 9/50\n",
            "351/351 [==============================] - ETA: 0s - loss: 0.3429 - accuracy: 0.8782INFO:tensorflow:Assets written to: models/VGG_transfer_learning/assets\n",
            "351/351 [==============================] - 15s 44ms/step - loss: 0.3429 - accuracy: 0.8782 - val_loss: 0.3455 - val_accuracy: 0.8789\n",
            "Epoch 10/50\n",
            "351/351 [==============================] - ETA: 0s - loss: 0.3288 - accuracy: 0.8851INFO:tensorflow:Assets written to: models/VGG_transfer_learning/assets\n",
            "351/351 [==============================] - 15s 44ms/step - loss: 0.3288 - accuracy: 0.8851 - val_loss: 0.3375 - val_accuracy: 0.8799\n",
            "Epoch 11/50\n",
            "351/351 [==============================] - ETA: 0s - loss: 0.3212 - accuracy: 0.8852INFO:tensorflow:Assets written to: models/VGG_transfer_learning/assets\n",
            "351/351 [==============================] - 16s 45ms/step - loss: 0.3212 - accuracy: 0.8852 - val_loss: 0.3323 - val_accuracy: 0.8853\n",
            "Epoch 12/50\n",
            "351/351 [==============================] - ETA: 0s - loss: 0.3091 - accuracy: 0.8911INFO:tensorflow:Assets written to: models/VGG_transfer_learning/assets\n",
            "351/351 [==============================] - 15s 44ms/step - loss: 0.3091 - accuracy: 0.8911 - val_loss: 0.3269 - val_accuracy: 0.8885\n",
            "Epoch 13/50\n",
            "351/351 [==============================] - ETA: 0s - loss: 0.2983 - accuracy: 0.8961INFO:tensorflow:Assets written to: models/VGG_transfer_learning/assets\n",
            "351/351 [==============================] - 16s 45ms/step - loss: 0.2983 - accuracy: 0.8961 - val_loss: 0.3224 - val_accuracy: 0.8885\n",
            "Epoch 14/50\n",
            "351/351 [==============================] - ETA: 0s - loss: 0.2884 - accuracy: 0.9013INFO:tensorflow:Assets written to: models/VGG_transfer_learning/assets\n",
            "351/351 [==============================] - 15s 44ms/step - loss: 0.2884 - accuracy: 0.9013 - val_loss: 0.3179 - val_accuracy: 0.8913\n",
            "Epoch 15/50\n",
            "351/351 [==============================] - ETA: 0s - loss: 0.2797 - accuracy: 0.9036INFO:tensorflow:Assets written to: models/VGG_transfer_learning/assets\n",
            "351/351 [==============================] - 15s 44ms/step - loss: 0.2797 - accuracy: 0.9036 - val_loss: 0.3145 - val_accuracy: 0.8885\n",
            "Epoch 16/50\n",
            "351/351 [==============================] - ETA: 0s - loss: 0.2701 - accuracy: 0.9054INFO:tensorflow:Assets written to: models/VGG_transfer_learning/assets\n",
            "351/351 [==============================] - 16s 45ms/step - loss: 0.2701 - accuracy: 0.9054 - val_loss: 0.3114 - val_accuracy: 0.8899\n",
            "Epoch 17/50\n",
            "351/351 [==============================] - ETA: 0s - loss: 0.2637 - accuracy: 0.9088INFO:tensorflow:Assets written to: models/VGG_transfer_learning/assets\n",
            "351/351 [==============================] - 15s 44ms/step - loss: 0.2637 - accuracy: 0.9088 - val_loss: 0.3101 - val_accuracy: 0.8917\n",
            "Epoch 18/50\n",
            "351/351 [==============================] - ETA: 0s - loss: 0.2572 - accuracy: 0.9095INFO:tensorflow:Assets written to: models/VGG_transfer_learning/assets\n",
            "351/351 [==============================] - 16s 45ms/step - loss: 0.2572 - accuracy: 0.9095 - val_loss: 0.3078 - val_accuracy: 0.8906\n",
            "Epoch 19/50\n",
            "351/351 [==============================] - ETA: 0s - loss: 0.2497 - accuracy: 0.9122INFO:tensorflow:Assets written to: models/VGG_transfer_learning/assets\n",
            "351/351 [==============================] - 15s 44ms/step - loss: 0.2497 - accuracy: 0.9122 - val_loss: 0.3044 - val_accuracy: 0.8917\n",
            "Epoch 20/50\n",
            "351/351 [==============================] - ETA: 0s - loss: 0.2397 - accuracy: 0.9173INFO:tensorflow:Assets written to: models/VGG_transfer_learning/assets\n",
            "351/351 [==============================] - 16s 45ms/step - loss: 0.2397 - accuracy: 0.9173 - val_loss: 0.3025 - val_accuracy: 0.8949\n",
            "Epoch 21/50\n",
            "351/351 [==============================] - 13s 37ms/step - loss: 0.2353 - accuracy: 0.9202 - val_loss: 0.3061 - val_accuracy: 0.8906\n",
            "Epoch 22/50\n",
            "351/351 [==============================] - ETA: 0s - loss: 0.2303 - accuracy: 0.9196INFO:tensorflow:Assets written to: models/VGG_transfer_learning/assets\n",
            "351/351 [==============================] - 15s 44ms/step - loss: 0.2303 - accuracy: 0.9196 - val_loss: 0.2984 - val_accuracy: 0.8928\n",
            "Epoch 23/50\n",
            "351/351 [==============================] - ETA: 0s - loss: 0.2212 - accuracy: 0.9249INFO:tensorflow:Assets written to: models/VGG_transfer_learning/assets\n",
            "351/351 [==============================] - 15s 44ms/step - loss: 0.2212 - accuracy: 0.9249 - val_loss: 0.2965 - val_accuracy: 0.8956\n",
            "Epoch 24/50\n",
            "351/351 [==============================] - 13s 37ms/step - loss: 0.2148 - accuracy: 0.9263 - val_loss: 0.2988 - val_accuracy: 0.8945\n",
            "Epoch 25/50\n",
            "351/351 [==============================] - ETA: 0s - loss: 0.2112 - accuracy: 0.9287INFO:tensorflow:Assets written to: models/VGG_transfer_learning/assets\n",
            "351/351 [==============================] - 16s 45ms/step - loss: 0.2112 - accuracy: 0.9287 - val_loss: 0.2948 - val_accuracy: 0.8967\n",
            "Epoch 26/50\n",
            "351/351 [==============================] - ETA: 0s - loss: 0.2061 - accuracy: 0.9301INFO:tensorflow:Assets written to: models/VGG_transfer_learning/assets\n",
            "351/351 [==============================] - 15s 44ms/step - loss: 0.2061 - accuracy: 0.9301 - val_loss: 0.2939 - val_accuracy: 0.8953\n",
            "Epoch 27/50\n",
            "351/351 [==============================] - 13s 37ms/step - loss: 0.1996 - accuracy: 0.9345 - val_loss: 0.2945 - val_accuracy: 0.8960\n",
            "Epoch 28/50\n",
            "351/351 [==============================] - 13s 37ms/step - loss: 0.1940 - accuracy: 0.9348 - val_loss: 0.2965 - val_accuracy: 0.8924\n",
            "Epoch 29/50\n",
            "351/351 [==============================] - ETA: 0s - loss: 0.1893 - accuracy: 0.9366INFO:tensorflow:Assets written to: models/VGG_transfer_learning/assets\n",
            "351/351 [==============================] - 16s 45ms/step - loss: 0.1893 - accuracy: 0.9366 - val_loss: 0.2913 - val_accuracy: 0.8978\n",
            "Epoch 30/50\n",
            "351/351 [==============================] - 13s 37ms/step - loss: 0.1862 - accuracy: 0.9398 - val_loss: 0.2982 - val_accuracy: 0.8921\n",
            "Epoch 31/50\n",
            "351/351 [==============================] - 13s 36ms/step - loss: 0.1793 - accuracy: 0.9409 - val_loss: 0.2973 - val_accuracy: 0.8928\n",
            "Epoch 32/50\n",
            "351/351 [==============================] - 13s 36ms/step - loss: 0.1732 - accuracy: 0.9428 - val_loss: 0.2954 - val_accuracy: 0.8928\n",
            "Epoch 33/50\n",
            "351/351 [==============================] - 13s 36ms/step - loss: 0.1684 - accuracy: 0.9447 - val_loss: 0.2932 - val_accuracy: 0.8953\n",
            "Epoch 34/50\n",
            "351/351 [==============================] - 13s 37ms/step - loss: 0.1629 - accuracy: 0.9483 - val_loss: 0.2936 - val_accuracy: 0.8945\n",
            "Epoch 35/50\n",
            "351/351 [==============================] - ETA: 0s - loss: 0.1591 - accuracy: 0.9474INFO:tensorflow:Assets written to: models/VGG_transfer_learning/assets\n",
            "351/351 [==============================] - 15s 44ms/step - loss: 0.1591 - accuracy: 0.9474 - val_loss: 0.2901 - val_accuracy: 0.8960\n",
            "Epoch 36/50\n",
            "351/351 [==============================] - 13s 37ms/step - loss: 0.1547 - accuracy: 0.9522 - val_loss: 0.2925 - val_accuracy: 0.8960\n",
            "Epoch 37/50\n",
            "351/351 [==============================] - 13s 37ms/step - loss: 0.1500 - accuracy: 0.9523 - val_loss: 0.2912 - val_accuracy: 0.8974\n",
            "Epoch 38/50\n",
            "351/351 [==============================] - 13s 37ms/step - loss: 0.1474 - accuracy: 0.9531 - val_loss: 0.2952 - val_accuracy: 0.8953\n",
            "Epoch 39/50\n",
            "351/351 [==============================] - 13s 37ms/step - loss: 0.1440 - accuracy: 0.9548 - val_loss: 0.2954 - val_accuracy: 0.8945\n",
            "Epoch 40/50\n",
            "351/351 [==============================] - 13s 36ms/step - loss: 0.1397 - accuracy: 0.9562 - val_loss: 0.2940 - val_accuracy: 0.8953\n",
            "Epoch 41/50\n",
            "351/351 [==============================] - 13s 37ms/step - loss: 0.1340 - accuracy: 0.9590 - val_loss: 0.2949 - val_accuracy: 0.8963\n",
            "Epoch 42/50\n",
            "351/351 [==============================] - 13s 37ms/step - loss: 0.1290 - accuracy: 0.9629 - val_loss: 0.2944 - val_accuracy: 0.8995\n",
            "Epoch 43/50\n",
            "351/351 [==============================] - 13s 37ms/step - loss: 0.1253 - accuracy: 0.9629 - val_loss: 0.2965 - val_accuracy: 0.8945\n",
            "Epoch 44/50\n",
            "351/351 [==============================] - 13s 37ms/step - loss: 0.1230 - accuracy: 0.9617 - val_loss: 0.2943 - val_accuracy: 0.8974\n",
            "Epoch 45/50\n",
            "351/351 [==============================] - 13s 36ms/step - loss: 0.1199 - accuracy: 0.9632 - val_loss: 0.2975 - val_accuracy: 0.8963\n",
            "Epoch 46/50\n",
            "351/351 [==============================] - 13s 36ms/step - loss: 0.1171 - accuracy: 0.9660 - val_loss: 0.2974 - val_accuracy: 0.8974\n",
            "Epoch 47/50\n",
            "351/351 [==============================] - 13s 36ms/step - loss: 0.1132 - accuracy: 0.9667 - val_loss: 0.2996 - val_accuracy: 0.8978\n",
            "Epoch 48/50\n",
            "351/351 [==============================] - 13s 36ms/step - loss: 0.1070 - accuracy: 0.9677 - val_loss: 0.3002 - val_accuracy: 0.8985\n",
            "Epoch 49/50\n",
            "351/351 [==============================] - 13s 37ms/step - loss: 0.1064 - accuracy: 0.9670 - val_loss: 0.2991 - val_accuracy: 0.8953\n",
            "Epoch 50/50\n",
            "351/351 [==============================] - 13s 36ms/step - loss: 0.1033 - accuracy: 0.9705 - val_loss: 0.3008 - val_accuracy: 0.8956\n"
          ]
        }
      ]
    },
    {
      "cell_type": "code",
      "source": [
        "# plot the loss\n",
        "plt.plot(r.history['loss'], label='train loss')\n",
        "plt.plot(r.history['val_loss'], label='val loss')\n",
        "plt.legend()\n",
        "plt.show()\n",
        "plt.savefig('LossVal_loss')\n",
        "\n",
        "# plot the accuracy\n",
        "plt.plot(r.history['accuracy'], label='train acc')\n",
        "plt.plot(r.history['val_accuracy'], label='val acc')\n",
        "plt.legend()\n",
        "plt.show()\n",
        "plt.savefig('AccVal_acc')"
      ],
      "metadata": {
        "colab": {
          "base_uri": "https://localhost:8080/",
          "height": 530
        },
        "id": "gZ2NVw-pigju",
        "outputId": "fedcf451-9500-4226-adc6-ded4715233ff"
      },
      "execution_count": 57,
      "outputs": [
        {
          "output_type": "display_data",
          "data": {
            "text/plain": [
              "<Figure size 432x288 with 1 Axes>"
            ],
            "image/png": "[encoded data removed]"
          },
          "metadata": {
            "needs_background": "light"
          }
        },
        {
          "output_type": "display_data",
          "data": {
            "text/plain": [
              "<Figure size 432x288 with 1 Axes>"
            ],
            "image/png": "[encoded data removed]"
          },
          "metadata": {
            "needs_background": "light"
          }
        },
        {
          "output_type": "display_data",
          "data": {
            "text/plain": [
              "<Figure size 432x288 with 0 Axes>"
            ]
          },
          "metadata": {}
        }
      ]
    },
    {
      "cell_type": "code",
      "source": [
        "model = load_model('models/VGG_transfer_learning')"
      ],
      "metadata": {
        "id": "ZtnBB3I-ilwm"
      },
      "execution_count": 58,
      "outputs": []
    },
    {
      "cell_type": "code",
      "source": [
        "model.evaluate(X_test_scaled,y_test)"
      ],
      "metadata": {
        "colab": {
          "base_uri": "https://localhost:8080/"
        },
        "id": "bPjx5e4firk2",
        "outputId": "4be556c0-5ec5-4eaa-b461-0c7ede24c688"
      },
      "execution_count": 59,
      "outputs": [
        {
          "output_type": "stream",
          "name": "stdout",
          "text": [
            "94/94 [==============================] - 3s 30ms/step - loss: 0.2944 - accuracy: 0.8893\n"
          ]
        },
        {
          "output_type": "execute_result",
          "data": {
            "text/plain": [
              "[0.2944238781929016, 0.8893333077430725]"
            ]
          },
          "metadata": {},
          "execution_count": 59
        }
      ]
    },
    {
      "cell_type": "code",
      "source": [
        "test_predictions = model.predict(X_test_scaled)  \n",
        "test_pred_labels = np.argmax(test_predictions, axis = 1)"
      ],
      "metadata": {
        "id": "lCJR5nr4isLW"
      },
      "execution_count": 60,
      "outputs": []
    },
    {
      "cell_type": "code",
      "source": [
        "CM = confusion_matrix(y_test, test_pred_labels)\n",
        "ax = plt.axes()\n",
        "class_names = ['buildings', 'forest', 'glacier', 'mountain', 'sea', 'street']\n",
        "sn.heatmap(CM, annot=True, \n",
        "           annot_kws={\"size\": 8}, \n",
        "           xticklabels=class_names, \n",
        "           yticklabels=class_names, ax = ax, cmap='Blues')\n",
        "ax.set_title('Confusion matrix')\n",
        "plt.show()"
      ],
      "metadata": {
        "colab": {
          "base_uri": "https://localhost:8080/",
          "height": 281
        },
        "id": "fkcbHrO0iupi",
        "outputId": "bd05149b-f8b1-4bad-d84a-2e8366dd07fd"
      },
      "execution_count": 61,
      "outputs": [
        {
          "output_type": "display_data",
          "data": {
            "text/plain": [
              "<Figure size 432x288 with 2 Axes>"
            ],
            "image/png": "[encoded data removed]"
          },
          "metadata": {
            "needs_background": "light"
          }
        }
      ]
    }
  ]
}